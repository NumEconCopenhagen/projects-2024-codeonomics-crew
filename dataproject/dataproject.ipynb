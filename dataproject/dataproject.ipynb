{
 "cells": [
  {
   "cell_type": "markdown",
   "metadata": {},
   "source": [
    "# YOUR PROJECT TITLE"
   ]
  },
  {
   "attachments": {},
   "cell_type": "markdown",
   "metadata": {},
   "source": [
    "> **Note the following:** \n",
    "> 1. This is *not* meant to be an example of an actual **data analysis project**, just an example of how to structure such a project.\n",
    "> 1. Remember the general advice on structuring and commenting your code\n",
    "> 1. The `dataproject.py` file includes a function which can be used multiple times in this notebook."
   ]
  },
  {
   "cell_type": "markdown",
   "metadata": {},
   "source": [
    "Imports and set magics:"
   ]
  },
  {
   "cell_type": "code",
   "execution_count": 2,
   "metadata": {},
   "outputs": [],
   "source": [
    "import pandas as pd\n",
    "import numpy as np\n",
    "import matplotlib.pyplot as plt\n",
    "import ipywidgets as widgets\n",
    "from matplotlib_venn import venn2\n",
    "import plotly.express as px\n",
    "\n",
    "\n",
    "# Uncomment if you haven't installed the following packages\n",
    "#%pip install matplotlib-venn\n",
    "# %pip install plotly\n",
    "\n",
    "\n",
    "# autoreload modules when code is run\n",
    "%load_ext autoreload\n",
    "%autoreload 2\n",
    "\n",
    "# user written modules\n",
    "import dataproject\n"
   ]
  },
  {
   "cell_type": "markdown",
   "metadata": {},
   "source": [
    "# Read and clean data"
   ]
  },
  {
   "cell_type": "markdown",
   "metadata": {},
   "source": [
    "### Temperature data\n",
    "*We start by importing and cleaning temperature data from Goddard Institute of Space Studies*  \n",
    "Link to data: https://data.giss.nasa.gov/gistemp/"
   ]
  },
  {
   "cell_type": "code",
   "execution_count": 3,
   "metadata": {},
   "outputs": [
    {
     "data": {
      "text/html": [
       "<div>\n",
       "<style scoped>\n",
       "    .dataframe tbody tr th:only-of-type {\n",
       "        vertical-align: middle;\n",
       "    }\n",
       "\n",
       "    .dataframe tbody tr th {\n",
       "        vertical-align: top;\n",
       "    }\n",
       "\n",
       "    .dataframe thead th {\n",
       "        text-align: right;\n",
       "    }\n",
       "</style>\n",
       "<table border=\"1\" class=\"dataframe\">\n",
       "  <thead>\n",
       "    <tr style=\"text-align: right;\">\n",
       "      <th></th>\n",
       "      <th></th>\n",
       "      <th></th>\n",
       "      <th></th>\n",
       "      <th></th>\n",
       "      <th></th>\n",
       "      <th></th>\n",
       "      <th></th>\n",
       "      <th></th>\n",
       "      <th></th>\n",
       "      <th></th>\n",
       "      <th></th>\n",
       "      <th></th>\n",
       "      <th></th>\n",
       "      <th></th>\n",
       "      <th></th>\n",
       "      <th></th>\n",
       "      <th></th>\n",
       "      <th>Land-Ocean: Global Means</th>\n",
       "    </tr>\n",
       "  </thead>\n",
       "  <tbody>\n",
       "    <tr>\n",
       "      <th>Year</th>\n",
       "      <th>Jan</th>\n",
       "      <th>Feb</th>\n",
       "      <th>Mar</th>\n",
       "      <th>Apr</th>\n",
       "      <th>May</th>\n",
       "      <th>Jun</th>\n",
       "      <th>Jul</th>\n",
       "      <th>Aug</th>\n",
       "      <th>Sep</th>\n",
       "      <th>Oct</th>\n",
       "      <th>Nov</th>\n",
       "      <th>Dec</th>\n",
       "      <th>J-D</th>\n",
       "      <th>D-N</th>\n",
       "      <th>DJF</th>\n",
       "      <th>MAM</th>\n",
       "      <th>JJA</th>\n",
       "      <td>SON</td>\n",
       "    </tr>\n",
       "    <tr>\n",
       "      <th>1880</th>\n",
       "      <th>-.17</th>\n",
       "      <th>-.24</th>\n",
       "      <th>-.08</th>\n",
       "      <th>-.16</th>\n",
       "      <th>-.09</th>\n",
       "      <th>-.20</th>\n",
       "      <th>-.17</th>\n",
       "      <th>-.10</th>\n",
       "      <th>-.13</th>\n",
       "      <th>-.23</th>\n",
       "      <th>-.21</th>\n",
       "      <th>-.17</th>\n",
       "      <th>-.16</th>\n",
       "      <th>***</th>\n",
       "      <th>***</th>\n",
       "      <th>-.11</th>\n",
       "      <th>-.16</th>\n",
       "      <td>-.19</td>\n",
       "    </tr>\n",
       "    <tr>\n",
       "      <th>1881</th>\n",
       "      <th>-.19</th>\n",
       "      <th>-.13</th>\n",
       "      <th>.04</th>\n",
       "      <th>.06</th>\n",
       "      <th>.06</th>\n",
       "      <th>-.18</th>\n",
       "      <th>.01</th>\n",
       "      <th>-.03</th>\n",
       "      <th>-.15</th>\n",
       "      <th>-.21</th>\n",
       "      <th>-.18</th>\n",
       "      <th>-.07</th>\n",
       "      <th>-.08</th>\n",
       "      <th>-.09</th>\n",
       "      <th>-.16</th>\n",
       "      <th>.05</th>\n",
       "      <th>-.07</th>\n",
       "      <td>-.18</td>\n",
       "    </tr>\n",
       "    <tr>\n",
       "      <th>1882</th>\n",
       "      <th>.17</th>\n",
       "      <th>.14</th>\n",
       "      <th>.04</th>\n",
       "      <th>-.16</th>\n",
       "      <th>-.14</th>\n",
       "      <th>-.23</th>\n",
       "      <th>-.16</th>\n",
       "      <th>-.07</th>\n",
       "      <th>-.14</th>\n",
       "      <th>-.23</th>\n",
       "      <th>-.16</th>\n",
       "      <th>-.35</th>\n",
       "      <th>-.11</th>\n",
       "      <th>-.08</th>\n",
       "      <th>.08</th>\n",
       "      <th>-.09</th>\n",
       "      <th>-.15</th>\n",
       "      <td>-.18</td>\n",
       "    </tr>\n",
       "    <tr>\n",
       "      <th>1883</th>\n",
       "      <th>-.29</th>\n",
       "      <th>-.36</th>\n",
       "      <th>-.12</th>\n",
       "      <th>-.18</th>\n",
       "      <th>-.17</th>\n",
       "      <th>-.08</th>\n",
       "      <th>-.06</th>\n",
       "      <th>-.13</th>\n",
       "      <th>-.21</th>\n",
       "      <th>-.10</th>\n",
       "      <th>-.22</th>\n",
       "      <th>-.10</th>\n",
       "      <th>-.17</th>\n",
       "      <th>-.19</th>\n",
       "      <th>-.33</th>\n",
       "      <th>-.15</th>\n",
       "      <th>-.09</th>\n",
       "      <td>-.18</td>\n",
       "    </tr>\n",
       "  </tbody>\n",
       "</table>\n",
       "</div>"
      ],
      "text/plain": [
       "                                                                                          Land-Ocean: Global Means\n",
       "Year Jan  Feb  Mar  Apr  May  Jun  Jul  Aug  Sep  Oct  Nov  Dec  J-D  D-N  DJF  MAM  JJA                       SON\n",
       "1880 -.17 -.24 -.08 -.16 -.09 -.20 -.17 -.10 -.13 -.23 -.21 -.17 -.16 ***  ***  -.11 -.16                     -.19\n",
       "1881 -.19 -.13 .04  .06  .06  -.18 .01  -.03 -.15 -.21 -.18 -.07 -.08 -.09 -.16 .05  -.07                     -.18\n",
       "1882 .17  .14  .04  -.16 -.14 -.23 -.16 -.07 -.14 -.23 -.16 -.35 -.11 -.08 .08  -.09 -.15                     -.18\n",
       "1883 -.29 -.36 -.12 -.18 -.17 -.08 -.06 -.13 -.21 -.10 -.22 -.10 -.17 -.19 -.33 -.15 -.09                     -.18"
      ]
     },
     "execution_count": 3,
     "metadata": {},
     "output_type": "execute_result"
    }
   ],
   "source": [
    "#Loading dataset on global temperature\n",
    "GlobalTemp = 'GlobalTemp.csv'\n",
    "pd.read_csv(GlobalTemp).head()"
   ]
  },
  {
   "cell_type": "code",
   "execution_count": 4,
   "metadata": {},
   "outputs": [
    {
     "data": {
      "text/html": [
       "<div>\n",
       "<style scoped>\n",
       "    .dataframe tbody tr th:only-of-type {\n",
       "        vertical-align: middle;\n",
       "    }\n",
       "\n",
       "    .dataframe tbody tr th {\n",
       "        vertical-align: top;\n",
       "    }\n",
       "\n",
       "    .dataframe thead th {\n",
       "        text-align: right;\n",
       "    }\n",
       "</style>\n",
       "<table border=\"1\" class=\"dataframe\">\n",
       "  <thead>\n",
       "    <tr style=\"text-align: right;\">\n",
       "      <th></th>\n",
       "      <th>Year</th>\n",
       "      <th>Jan</th>\n",
       "      <th>Feb</th>\n",
       "      <th>Mar</th>\n",
       "      <th>Apr</th>\n",
       "      <th>May</th>\n",
       "      <th>Jun</th>\n",
       "      <th>Jul</th>\n",
       "      <th>Aug</th>\n",
       "      <th>Sep</th>\n",
       "      <th>Oct</th>\n",
       "      <th>Nov</th>\n",
       "      <th>Dec</th>\n",
       "      <th>J-D</th>\n",
       "      <th>D-N</th>\n",
       "      <th>DJF</th>\n",
       "      <th>MAM</th>\n",
       "      <th>JJA</th>\n",
       "      <th>SON</th>\n",
       "    </tr>\n",
       "  </thead>\n",
       "  <tbody>\n",
       "    <tr>\n",
       "      <th>0</th>\n",
       "      <td>1880</td>\n",
       "      <td>-0.17</td>\n",
       "      <td>-0.24</td>\n",
       "      <td>-.08</td>\n",
       "      <td>-.16</td>\n",
       "      <td>-.09</td>\n",
       "      <td>-.20</td>\n",
       "      <td>-.17</td>\n",
       "      <td>-.10</td>\n",
       "      <td>-.13</td>\n",
       "      <td>-.23</td>\n",
       "      <td>-.21</td>\n",
       "      <td>-.17</td>\n",
       "      <td>-.16</td>\n",
       "      <td>***</td>\n",
       "      <td>***</td>\n",
       "      <td>-.11</td>\n",
       "      <td>-.16</td>\n",
       "      <td>-.19</td>\n",
       "    </tr>\n",
       "    <tr>\n",
       "      <th>1</th>\n",
       "      <td>1881</td>\n",
       "      <td>-0.19</td>\n",
       "      <td>-0.13</td>\n",
       "      <td>.04</td>\n",
       "      <td>.06</td>\n",
       "      <td>.06</td>\n",
       "      <td>-.18</td>\n",
       "      <td>.01</td>\n",
       "      <td>-.03</td>\n",
       "      <td>-.15</td>\n",
       "      <td>-.21</td>\n",
       "      <td>-.18</td>\n",
       "      <td>-.07</td>\n",
       "      <td>-.08</td>\n",
       "      <td>-.09</td>\n",
       "      <td>-.16</td>\n",
       "      <td>.05</td>\n",
       "      <td>-.07</td>\n",
       "      <td>-.18</td>\n",
       "    </tr>\n",
       "    <tr>\n",
       "      <th>2</th>\n",
       "      <td>1882</td>\n",
       "      <td>0.17</td>\n",
       "      <td>0.14</td>\n",
       "      <td>.04</td>\n",
       "      <td>-.16</td>\n",
       "      <td>-.14</td>\n",
       "      <td>-.23</td>\n",
       "      <td>-.16</td>\n",
       "      <td>-.07</td>\n",
       "      <td>-.14</td>\n",
       "      <td>-.23</td>\n",
       "      <td>-.16</td>\n",
       "      <td>-.35</td>\n",
       "      <td>-.11</td>\n",
       "      <td>-.08</td>\n",
       "      <td>.08</td>\n",
       "      <td>-.09</td>\n",
       "      <td>-.15</td>\n",
       "      <td>-.18</td>\n",
       "    </tr>\n",
       "    <tr>\n",
       "      <th>3</th>\n",
       "      <td>1883</td>\n",
       "      <td>-0.29</td>\n",
       "      <td>-0.36</td>\n",
       "      <td>-.12</td>\n",
       "      <td>-.18</td>\n",
       "      <td>-.17</td>\n",
       "      <td>-.08</td>\n",
       "      <td>-.06</td>\n",
       "      <td>-.13</td>\n",
       "      <td>-.21</td>\n",
       "      <td>-.10</td>\n",
       "      <td>-.22</td>\n",
       "      <td>-.10</td>\n",
       "      <td>-.17</td>\n",
       "      <td>-.19</td>\n",
       "      <td>-.33</td>\n",
       "      <td>-.15</td>\n",
       "      <td>-.09</td>\n",
       "      <td>-.18</td>\n",
       "    </tr>\n",
       "    <tr>\n",
       "      <th>4</th>\n",
       "      <td>1884</td>\n",
       "      <td>-0.12</td>\n",
       "      <td>-0.07</td>\n",
       "      <td>-.35</td>\n",
       "      <td>-.39</td>\n",
       "      <td>-.33</td>\n",
       "      <td>-.35</td>\n",
       "      <td>-.29</td>\n",
       "      <td>-.27</td>\n",
       "      <td>-.26</td>\n",
       "      <td>-.24</td>\n",
       "      <td>-.33</td>\n",
       "      <td>-.30</td>\n",
       "      <td>-.28</td>\n",
       "      <td>-.26</td>\n",
       "      <td>-.10</td>\n",
       "      <td>-.36</td>\n",
       "      <td>-.30</td>\n",
       "      <td>-.28</td>\n",
       "    </tr>\n",
       "  </tbody>\n",
       "</table>\n",
       "</div>"
      ],
      "text/plain": [
       "   Year   Jan   Feb   Mar   Apr   May   Jun   Jul   Aug   Sep   Oct   Nov  \\\n",
       "0  1880 -0.17 -0.24  -.08  -.16  -.09  -.20  -.17  -.10  -.13  -.23  -.21   \n",
       "1  1881 -0.19 -0.13   .04   .06   .06  -.18   .01  -.03  -.15  -.21  -.18   \n",
       "2  1882  0.17  0.14   .04  -.16  -.14  -.23  -.16  -.07  -.14  -.23  -.16   \n",
       "3  1883 -0.29 -0.36  -.12  -.18  -.17  -.08  -.06  -.13  -.21  -.10  -.22   \n",
       "4  1884 -0.12 -0.07  -.35  -.39  -.33  -.35  -.29  -.27  -.26  -.24  -.33   \n",
       "\n",
       "    Dec   J-D   D-N   DJF   MAM   JJA   SON  \n",
       "0  -.17  -.16   ***   ***  -.11  -.16  -.19  \n",
       "1  -.07  -.08  -.09  -.16   .05  -.07  -.18  \n",
       "2  -.35  -.11  -.08   .08  -.09  -.15  -.18  \n",
       "3  -.10  -.17  -.19  -.33  -.15  -.09  -.18  \n",
       "4  -.30  -.28  -.26  -.10  -.36  -.30  -.28  "
      ]
     },
     "execution_count": 4,
     "metadata": {},
     "output_type": "execute_result"
    }
   ],
   "source": [
    "#Skipping the first row to make months headers\n",
    "GlobalTemp = pd.read_csv(GlobalTemp, skiprows=1)\n",
    "GlobalTemp.head()"
   ]
  },
  {
   "cell_type": "code",
   "execution_count": 5,
   "metadata": {},
   "outputs": [
    {
     "data": {
      "text/html": [
       "<div>\n",
       "<style scoped>\n",
       "    .dataframe tbody tr th:only-of-type {\n",
       "        vertical-align: middle;\n",
       "    }\n",
       "\n",
       "    .dataframe tbody tr th {\n",
       "        vertical-align: top;\n",
       "    }\n",
       "\n",
       "    .dataframe thead th {\n",
       "        text-align: right;\n",
       "    }\n",
       "</style>\n",
       "<table border=\"1\" class=\"dataframe\">\n",
       "  <thead>\n",
       "    <tr style=\"text-align: right;\">\n",
       "      <th></th>\n",
       "      <th>Year</th>\n",
       "      <th>Jan</th>\n",
       "      <th>Feb</th>\n",
       "      <th>Mar</th>\n",
       "      <th>Apr</th>\n",
       "      <th>May</th>\n",
       "      <th>Jun</th>\n",
       "      <th>Jul</th>\n",
       "      <th>Aug</th>\n",
       "      <th>Sep</th>\n",
       "      <th>Oct</th>\n",
       "      <th>Nov</th>\n",
       "      <th>Dec</th>\n",
       "    </tr>\n",
       "  </thead>\n",
       "  <tbody>\n",
       "    <tr>\n",
       "      <th>0</th>\n",
       "      <td>1880</td>\n",
       "      <td>-0.17</td>\n",
       "      <td>-0.24</td>\n",
       "      <td>-.08</td>\n",
       "      <td>-.16</td>\n",
       "      <td>-.09</td>\n",
       "      <td>-.20</td>\n",
       "      <td>-.17</td>\n",
       "      <td>-.10</td>\n",
       "      <td>-.13</td>\n",
       "      <td>-.23</td>\n",
       "      <td>-.21</td>\n",
       "      <td>-.17</td>\n",
       "    </tr>\n",
       "    <tr>\n",
       "      <th>1</th>\n",
       "      <td>1881</td>\n",
       "      <td>-0.19</td>\n",
       "      <td>-0.13</td>\n",
       "      <td>.04</td>\n",
       "      <td>.06</td>\n",
       "      <td>.06</td>\n",
       "      <td>-.18</td>\n",
       "      <td>.01</td>\n",
       "      <td>-.03</td>\n",
       "      <td>-.15</td>\n",
       "      <td>-.21</td>\n",
       "      <td>-.18</td>\n",
       "      <td>-.07</td>\n",
       "    </tr>\n",
       "    <tr>\n",
       "      <th>2</th>\n",
       "      <td>1882</td>\n",
       "      <td>0.17</td>\n",
       "      <td>0.14</td>\n",
       "      <td>.04</td>\n",
       "      <td>-.16</td>\n",
       "      <td>-.14</td>\n",
       "      <td>-.23</td>\n",
       "      <td>-.16</td>\n",
       "      <td>-.07</td>\n",
       "      <td>-.14</td>\n",
       "      <td>-.23</td>\n",
       "      <td>-.16</td>\n",
       "      <td>-.35</td>\n",
       "    </tr>\n",
       "    <tr>\n",
       "      <th>3</th>\n",
       "      <td>1883</td>\n",
       "      <td>-0.29</td>\n",
       "      <td>-0.36</td>\n",
       "      <td>-.12</td>\n",
       "      <td>-.18</td>\n",
       "      <td>-.17</td>\n",
       "      <td>-.08</td>\n",
       "      <td>-.06</td>\n",
       "      <td>-.13</td>\n",
       "      <td>-.21</td>\n",
       "      <td>-.10</td>\n",
       "      <td>-.22</td>\n",
       "      <td>-.10</td>\n",
       "    </tr>\n",
       "    <tr>\n",
       "      <th>4</th>\n",
       "      <td>1884</td>\n",
       "      <td>-0.12</td>\n",
       "      <td>-0.07</td>\n",
       "      <td>-.35</td>\n",
       "      <td>-.39</td>\n",
       "      <td>-.33</td>\n",
       "      <td>-.35</td>\n",
       "      <td>-.29</td>\n",
       "      <td>-.27</td>\n",
       "      <td>-.26</td>\n",
       "      <td>-.24</td>\n",
       "      <td>-.33</td>\n",
       "      <td>-.30</td>\n",
       "    </tr>\n",
       "  </tbody>\n",
       "</table>\n",
       "</div>"
      ],
      "text/plain": [
       "   Year   Jan   Feb   Mar   Apr   May   Jun   Jul   Aug   Sep   Oct   Nov  \\\n",
       "0  1880 -0.17 -0.24  -.08  -.16  -.09  -.20  -.17  -.10  -.13  -.23  -.21   \n",
       "1  1881 -0.19 -0.13   .04   .06   .06  -.18   .01  -.03  -.15  -.21  -.18   \n",
       "2  1882  0.17  0.14   .04  -.16  -.14  -.23  -.16  -.07  -.14  -.23  -.16   \n",
       "3  1883 -0.29 -0.36  -.12  -.18  -.17  -.08  -.06  -.13  -.21  -.10  -.22   \n",
       "4  1884 -0.12 -0.07  -.35  -.39  -.33  -.35  -.29  -.27  -.26  -.24  -.33   \n",
       "\n",
       "    Dec  \n",
       "0  -.17  \n",
       "1  -.07  \n",
       "2  -.35  \n",
       "3  -.10  \n",
       "4  -.30  "
      ]
     },
     "execution_count": 5,
     "metadata": {},
     "output_type": "execute_result"
    }
   ],
   "source": [
    "#Removing unused data\n",
    "drop_these = ['J-D','D-N','DJF','MAM','JJA','SON']\n",
    "\n",
    "GlobalTemp.drop(drop_these, axis=1, inplace=True)\n",
    "GlobalTemp.head()"
   ]
  },
  {
   "cell_type": "code",
   "execution_count": 6,
   "metadata": {},
   "outputs": [],
   "source": [
    "#Removing the year 2024, since there are a limited number of observations for temperature\n",
    "GlobalTemp = GlobalTemp[GlobalTemp['Year'] != 2024]"
   ]
  },
  {
   "cell_type": "code",
   "execution_count": 7,
   "metadata": {},
   "outputs": [
    {
     "data": {
      "text/html": [
       "<div>\n",
       "<style scoped>\n",
       "    .dataframe tbody tr th:only-of-type {\n",
       "        vertical-align: middle;\n",
       "    }\n",
       "\n",
       "    .dataframe tbody tr th {\n",
       "        vertical-align: top;\n",
       "    }\n",
       "\n",
       "    .dataframe thead th {\n",
       "        text-align: right;\n",
       "    }\n",
       "</style>\n",
       "<table border=\"1\" class=\"dataframe\">\n",
       "  <thead>\n",
       "    <tr style=\"text-align: right;\">\n",
       "      <th></th>\n",
       "      <th>Year</th>\n",
       "      <th>Jan</th>\n",
       "      <th>Feb</th>\n",
       "      <th>Mar</th>\n",
       "      <th>Apr</th>\n",
       "      <th>May</th>\n",
       "      <th>Jun</th>\n",
       "      <th>Jul</th>\n",
       "      <th>Aug</th>\n",
       "      <th>Sep</th>\n",
       "      <th>Oct</th>\n",
       "      <th>Nov</th>\n",
       "      <th>Dec</th>\n",
       "      <th>Mean</th>\n",
       "    </tr>\n",
       "  </thead>\n",
       "  <tbody>\n",
       "    <tr>\n",
       "      <th>0</th>\n",
       "      <td>1880</td>\n",
       "      <td>-0.17</td>\n",
       "      <td>-0.24</td>\n",
       "      <td>-0.08</td>\n",
       "      <td>-0.16</td>\n",
       "      <td>-0.09</td>\n",
       "      <td>-0.20</td>\n",
       "      <td>-0.17</td>\n",
       "      <td>-0.10</td>\n",
       "      <td>-0.13</td>\n",
       "      <td>-0.23</td>\n",
       "      <td>-0.21</td>\n",
       "      <td>-0.17</td>\n",
       "      <td>-0.162500</td>\n",
       "    </tr>\n",
       "    <tr>\n",
       "      <th>1</th>\n",
       "      <td>1881</td>\n",
       "      <td>-0.19</td>\n",
       "      <td>-0.13</td>\n",
       "      <td>0.04</td>\n",
       "      <td>0.06</td>\n",
       "      <td>0.06</td>\n",
       "      <td>-0.18</td>\n",
       "      <td>0.01</td>\n",
       "      <td>-0.03</td>\n",
       "      <td>-0.15</td>\n",
       "      <td>-0.21</td>\n",
       "      <td>-0.18</td>\n",
       "      <td>-0.07</td>\n",
       "      <td>-0.080833</td>\n",
       "    </tr>\n",
       "    <tr>\n",
       "      <th>2</th>\n",
       "      <td>1882</td>\n",
       "      <td>0.17</td>\n",
       "      <td>0.14</td>\n",
       "      <td>0.04</td>\n",
       "      <td>-0.16</td>\n",
       "      <td>-0.14</td>\n",
       "      <td>-0.23</td>\n",
       "      <td>-0.16</td>\n",
       "      <td>-0.07</td>\n",
       "      <td>-0.14</td>\n",
       "      <td>-0.23</td>\n",
       "      <td>-0.16</td>\n",
       "      <td>-0.35</td>\n",
       "      <td>-0.107500</td>\n",
       "    </tr>\n",
       "    <tr>\n",
       "      <th>3</th>\n",
       "      <td>1883</td>\n",
       "      <td>-0.29</td>\n",
       "      <td>-0.36</td>\n",
       "      <td>-0.12</td>\n",
       "      <td>-0.18</td>\n",
       "      <td>-0.17</td>\n",
       "      <td>-0.08</td>\n",
       "      <td>-0.06</td>\n",
       "      <td>-0.13</td>\n",
       "      <td>-0.21</td>\n",
       "      <td>-0.10</td>\n",
       "      <td>-0.22</td>\n",
       "      <td>-0.10</td>\n",
       "      <td>-0.168333</td>\n",
       "    </tr>\n",
       "    <tr>\n",
       "      <th>4</th>\n",
       "      <td>1884</td>\n",
       "      <td>-0.12</td>\n",
       "      <td>-0.07</td>\n",
       "      <td>-0.35</td>\n",
       "      <td>-0.39</td>\n",
       "      <td>-0.33</td>\n",
       "      <td>-0.35</td>\n",
       "      <td>-0.29</td>\n",
       "      <td>-0.27</td>\n",
       "      <td>-0.26</td>\n",
       "      <td>-0.24</td>\n",
       "      <td>-0.33</td>\n",
       "      <td>-0.30</td>\n",
       "      <td>-0.275000</td>\n",
       "    </tr>\n",
       "  </tbody>\n",
       "</table>\n",
       "</div>"
      ],
      "text/plain": [
       "   Year   Jan   Feb   Mar   Apr   May   Jun   Jul   Aug   Sep   Oct   Nov  \\\n",
       "0  1880 -0.17 -0.24 -0.08 -0.16 -0.09 -0.20 -0.17 -0.10 -0.13 -0.23 -0.21   \n",
       "1  1881 -0.19 -0.13  0.04  0.06  0.06 -0.18  0.01 -0.03 -0.15 -0.21 -0.18   \n",
       "2  1882  0.17  0.14  0.04 -0.16 -0.14 -0.23 -0.16 -0.07 -0.14 -0.23 -0.16   \n",
       "3  1883 -0.29 -0.36 -0.12 -0.18 -0.17 -0.08 -0.06 -0.13 -0.21 -0.10 -0.22   \n",
       "4  1884 -0.12 -0.07 -0.35 -0.39 -0.33 -0.35 -0.29 -0.27 -0.26 -0.24 -0.33   \n",
       "\n",
       "    Dec      Mean  \n",
       "0 -0.17 -0.162500  \n",
       "1 -0.07 -0.080833  \n",
       "2 -0.35 -0.107500  \n",
       "3 -0.10 -0.168333  \n",
       "4 -0.30 -0.275000  "
      ]
     },
     "execution_count": 7,
     "metadata": {},
     "output_type": "execute_result"
    }
   ],
   "source": [
    "#Calculate annual average temperature\n",
    "GlobalTemp = GlobalTemp.apply(pd.to_numeric, errors='coerce') #Convert all non-numeric values to NaN\n",
    "GlobalTemp['Mean'] = GlobalTemp.iloc[:, 1:].mean(axis=1)                  #Calculates the mean value\n",
    "GlobalTemp.head()"
   ]
  },
  {
   "cell_type": "markdown",
   "metadata": {},
   "source": [
    "### GDP Data\n",
    "*We load data for Global GDP* from the World Bank\n",
    "Link to data: https://data.worldbank.org/indicator/NY.GDP.MKTP.KD?locations=1W "
   ]
  },
  {
   "cell_type": "code",
   "execution_count": 8,
   "metadata": {},
   "outputs": [
    {
     "data": {
      "text/html": [
       "<div>\n",
       "<style scoped>\n",
       "    .dataframe tbody tr th:only-of-type {\n",
       "        vertical-align: middle;\n",
       "    }\n",
       "\n",
       "    .dataframe tbody tr th {\n",
       "        vertical-align: top;\n",
       "    }\n",
       "\n",
       "    .dataframe thead th {\n",
       "        text-align: right;\n",
       "    }\n",
       "</style>\n",
       "<table border=\"1\" class=\"dataframe\">\n",
       "  <thead>\n",
       "    <tr style=\"text-align: right;\">\n",
       "      <th></th>\n",
       "      <th>Data Source</th>\n",
       "      <th>World Development Indicators</th>\n",
       "      <th>Unnamed: 2</th>\n",
       "      <th>Unnamed: 3</th>\n",
       "      <th>Unnamed: 4</th>\n",
       "      <th>Unnamed: 5</th>\n",
       "      <th>Unnamed: 6</th>\n",
       "      <th>Unnamed: 7</th>\n",
       "      <th>Unnamed: 8</th>\n",
       "      <th>Unnamed: 9</th>\n",
       "      <th>...</th>\n",
       "      <th>Unnamed: 58</th>\n",
       "      <th>Unnamed: 59</th>\n",
       "      <th>Unnamed: 60</th>\n",
       "      <th>Unnamed: 61</th>\n",
       "      <th>Unnamed: 62</th>\n",
       "      <th>Unnamed: 63</th>\n",
       "      <th>Unnamed: 64</th>\n",
       "      <th>Unnamed: 65</th>\n",
       "      <th>Unnamed: 66</th>\n",
       "      <th>Unnamed: 67</th>\n",
       "    </tr>\n",
       "  </thead>\n",
       "  <tbody>\n",
       "    <tr>\n",
       "      <th>0</th>\n",
       "      <td>Last Updated Date</td>\n",
       "      <td>2024-03-28 00:00:00</td>\n",
       "      <td>NaN</td>\n",
       "      <td>NaN</td>\n",
       "      <td>NaN</td>\n",
       "      <td>NaN</td>\n",
       "      <td>NaN</td>\n",
       "      <td>NaN</td>\n",
       "      <td>NaN</td>\n",
       "      <td>NaN</td>\n",
       "      <td>...</td>\n",
       "      <td>NaN</td>\n",
       "      <td>NaN</td>\n",
       "      <td>NaN</td>\n",
       "      <td>NaN</td>\n",
       "      <td>NaN</td>\n",
       "      <td>NaN</td>\n",
       "      <td>NaN</td>\n",
       "      <td>NaN</td>\n",
       "      <td>NaN</td>\n",
       "      <td>NaN</td>\n",
       "    </tr>\n",
       "    <tr>\n",
       "      <th>1</th>\n",
       "      <td>NaN</td>\n",
       "      <td>NaN</td>\n",
       "      <td>NaN</td>\n",
       "      <td>NaN</td>\n",
       "      <td>NaN</td>\n",
       "      <td>NaN</td>\n",
       "      <td>NaN</td>\n",
       "      <td>NaN</td>\n",
       "      <td>NaN</td>\n",
       "      <td>NaN</td>\n",
       "      <td>...</td>\n",
       "      <td>NaN</td>\n",
       "      <td>NaN</td>\n",
       "      <td>NaN</td>\n",
       "      <td>NaN</td>\n",
       "      <td>NaN</td>\n",
       "      <td>NaN</td>\n",
       "      <td>NaN</td>\n",
       "      <td>NaN</td>\n",
       "      <td>NaN</td>\n",
       "      <td>NaN</td>\n",
       "    </tr>\n",
       "    <tr>\n",
       "      <th>2</th>\n",
       "      <td>Country Name</td>\n",
       "      <td>Country Code</td>\n",
       "      <td>Indicator Name</td>\n",
       "      <td>Indicator Code</td>\n",
       "      <td>1.960000e+03</td>\n",
       "      <td>1.961000e+03</td>\n",
       "      <td>1.962000e+03</td>\n",
       "      <td>1.963000e+03</td>\n",
       "      <td>1.964000e+03</td>\n",
       "      <td>1.965000e+03</td>\n",
       "      <td>...</td>\n",
       "      <td>2.014000e+03</td>\n",
       "      <td>2.015000e+03</td>\n",
       "      <td>2.016000e+03</td>\n",
       "      <td>2.017000e+03</td>\n",
       "      <td>2.018000e+03</td>\n",
       "      <td>2.019000e+03</td>\n",
       "      <td>2.020000e+03</td>\n",
       "      <td>2.021000e+03</td>\n",
       "      <td>2.022000e+03</td>\n",
       "      <td>2023.0</td>\n",
       "    </tr>\n",
       "    <tr>\n",
       "      <th>3</th>\n",
       "      <td>Aruba</td>\n",
       "      <td>ABW</td>\n",
       "      <td>GDP (constant 2015 US$)</td>\n",
       "      <td>NY.GDP.MKTP.KD</td>\n",
       "      <td>NaN</td>\n",
       "      <td>NaN</td>\n",
       "      <td>NaN</td>\n",
       "      <td>NaN</td>\n",
       "      <td>NaN</td>\n",
       "      <td>NaN</td>\n",
       "      <td>...</td>\n",
       "      <td>2.981501e+09</td>\n",
       "      <td>2.962907e+09</td>\n",
       "      <td>3.013858e+09</td>\n",
       "      <td>3.226291e+09</td>\n",
       "      <td>3.303132e+09</td>\n",
       "      <td>3.227067e+09</td>\n",
       "      <td>2.453133e+09</td>\n",
       "      <td>3.131163e+09</td>\n",
       "      <td>3.458630e+09</td>\n",
       "      <td>NaN</td>\n",
       "    </tr>\n",
       "    <tr>\n",
       "      <th>4</th>\n",
       "      <td>Africa Eastern and Southern</td>\n",
       "      <td>AFE</td>\n",
       "      <td>GDP (constant 2015 US$)</td>\n",
       "      <td>NY.GDP.MKTP.KD</td>\n",
       "      <td>1.547764e+11</td>\n",
       "      <td>1.551709e+11</td>\n",
       "      <td>1.675316e+11</td>\n",
       "      <td>1.761564e+11</td>\n",
       "      <td>1.842232e+11</td>\n",
       "      <td>1.940722e+11</td>\n",
       "      <td>...</td>\n",
       "      <td>9.056601e+11</td>\n",
       "      <td>9.325135e+11</td>\n",
       "      <td>9.532061e+11</td>\n",
       "      <td>9.777220e+11</td>\n",
       "      <td>1.002081e+12</td>\n",
       "      <td>1.022529e+12</td>\n",
       "      <td>9.939082e+11</td>\n",
       "      <td>1.036651e+12</td>\n",
       "      <td>1.072261e+12</td>\n",
       "      <td>NaN</td>\n",
       "    </tr>\n",
       "  </tbody>\n",
       "</table>\n",
       "<p>5 rows × 68 columns</p>\n",
       "</div>"
      ],
      "text/plain": [
       "                   Data Source World Development Indicators  \\\n",
       "0            Last Updated Date          2024-03-28 00:00:00   \n",
       "1                          NaN                          NaN   \n",
       "2                 Country Name                 Country Code   \n",
       "3                        Aruba                          ABW   \n",
       "4  Africa Eastern and Southern                          AFE   \n",
       "\n",
       "                Unnamed: 2      Unnamed: 3    Unnamed: 4    Unnamed: 5  \\\n",
       "0                      NaN             NaN           NaN           NaN   \n",
       "1                      NaN             NaN           NaN           NaN   \n",
       "2           Indicator Name  Indicator Code  1.960000e+03  1.961000e+03   \n",
       "3  GDP (constant 2015 US$)  NY.GDP.MKTP.KD           NaN           NaN   \n",
       "4  GDP (constant 2015 US$)  NY.GDP.MKTP.KD  1.547764e+11  1.551709e+11   \n",
       "\n",
       "     Unnamed: 6    Unnamed: 7    Unnamed: 8    Unnamed: 9  ...   Unnamed: 58  \\\n",
       "0           NaN           NaN           NaN           NaN  ...           NaN   \n",
       "1           NaN           NaN           NaN           NaN  ...           NaN   \n",
       "2  1.962000e+03  1.963000e+03  1.964000e+03  1.965000e+03  ...  2.014000e+03   \n",
       "3           NaN           NaN           NaN           NaN  ...  2.981501e+09   \n",
       "4  1.675316e+11  1.761564e+11  1.842232e+11  1.940722e+11  ...  9.056601e+11   \n",
       "\n",
       "    Unnamed: 59   Unnamed: 60   Unnamed: 61   Unnamed: 62   Unnamed: 63  \\\n",
       "0           NaN           NaN           NaN           NaN           NaN   \n",
       "1           NaN           NaN           NaN           NaN           NaN   \n",
       "2  2.015000e+03  2.016000e+03  2.017000e+03  2.018000e+03  2.019000e+03   \n",
       "3  2.962907e+09  3.013858e+09  3.226291e+09  3.303132e+09  3.227067e+09   \n",
       "4  9.325135e+11  9.532061e+11  9.777220e+11  1.002081e+12  1.022529e+12   \n",
       "\n",
       "    Unnamed: 64   Unnamed: 65   Unnamed: 66  Unnamed: 67  \n",
       "0           NaN           NaN           NaN          NaN  \n",
       "1           NaN           NaN           NaN          NaN  \n",
       "2  2.020000e+03  2.021000e+03  2.022000e+03       2023.0  \n",
       "3  2.453133e+09  3.131163e+09  3.458630e+09          NaN  \n",
       "4  9.939082e+11  1.036651e+12  1.072261e+12          NaN  \n",
       "\n",
       "[5 rows x 68 columns]"
      ]
     },
     "execution_count": 8,
     "metadata": {},
     "output_type": "execute_result"
    }
   ],
   "source": [
    "#Load dataset\n",
    "GDP = 'GDP.xls'\n",
    "#%pip install xlrd\n",
    "pd.read_excel(GDP, sheet_name=0).head()"
   ]
  },
  {
   "cell_type": "code",
   "execution_count": 9,
   "metadata": {},
   "outputs": [
    {
     "data": {
      "text/html": [
       "<div>\n",
       "<style scoped>\n",
       "    .dataframe tbody tr th:only-of-type {\n",
       "        vertical-align: middle;\n",
       "    }\n",
       "\n",
       "    .dataframe tbody tr th {\n",
       "        vertical-align: top;\n",
       "    }\n",
       "\n",
       "    .dataframe thead th {\n",
       "        text-align: right;\n",
       "    }\n",
       "</style>\n",
       "<table border=\"1\" class=\"dataframe\">\n",
       "  <thead>\n",
       "    <tr style=\"text-align: right;\">\n",
       "      <th></th>\n",
       "      <th>Country Name</th>\n",
       "      <th>Country Code</th>\n",
       "      <th>Indicator Name</th>\n",
       "      <th>Indicator Code</th>\n",
       "      <th>1960</th>\n",
       "      <th>1961</th>\n",
       "      <th>1962</th>\n",
       "      <th>1963</th>\n",
       "      <th>1964</th>\n",
       "      <th>1965</th>\n",
       "      <th>...</th>\n",
       "      <th>2014</th>\n",
       "      <th>2015</th>\n",
       "      <th>2016</th>\n",
       "      <th>2017</th>\n",
       "      <th>2018</th>\n",
       "      <th>2019</th>\n",
       "      <th>2020</th>\n",
       "      <th>2021</th>\n",
       "      <th>2022</th>\n",
       "      <th>2023</th>\n",
       "    </tr>\n",
       "  </thead>\n",
       "  <tbody>\n",
       "    <tr>\n",
       "      <th>0</th>\n",
       "      <td>Aruba</td>\n",
       "      <td>ABW</td>\n",
       "      <td>GDP (constant 2015 US$)</td>\n",
       "      <td>NY.GDP.MKTP.KD</td>\n",
       "      <td>NaN</td>\n",
       "      <td>NaN</td>\n",
       "      <td>NaN</td>\n",
       "      <td>NaN</td>\n",
       "      <td>NaN</td>\n",
       "      <td>NaN</td>\n",
       "      <td>...</td>\n",
       "      <td>2.981501e+09</td>\n",
       "      <td>2.962907e+09</td>\n",
       "      <td>3.013858e+09</td>\n",
       "      <td>3.226291e+09</td>\n",
       "      <td>3.303132e+09</td>\n",
       "      <td>3.227067e+09</td>\n",
       "      <td>2.453133e+09</td>\n",
       "      <td>3.131163e+09</td>\n",
       "      <td>3.458630e+09</td>\n",
       "      <td>NaN</td>\n",
       "    </tr>\n",
       "    <tr>\n",
       "      <th>1</th>\n",
       "      <td>Africa Eastern and Southern</td>\n",
       "      <td>AFE</td>\n",
       "      <td>GDP (constant 2015 US$)</td>\n",
       "      <td>NY.GDP.MKTP.KD</td>\n",
       "      <td>1.547764e+11</td>\n",
       "      <td>1.551709e+11</td>\n",
       "      <td>1.675316e+11</td>\n",
       "      <td>1.761564e+11</td>\n",
       "      <td>1.842232e+11</td>\n",
       "      <td>1.940722e+11</td>\n",
       "      <td>...</td>\n",
       "      <td>9.056601e+11</td>\n",
       "      <td>9.325135e+11</td>\n",
       "      <td>9.532061e+11</td>\n",
       "      <td>9.777220e+11</td>\n",
       "      <td>1.002081e+12</td>\n",
       "      <td>1.022529e+12</td>\n",
       "      <td>9.939082e+11</td>\n",
       "      <td>1.036651e+12</td>\n",
       "      <td>1.072261e+12</td>\n",
       "      <td>NaN</td>\n",
       "    </tr>\n",
       "    <tr>\n",
       "      <th>2</th>\n",
       "      <td>Afghanistan</td>\n",
       "      <td>AFG</td>\n",
       "      <td>GDP (constant 2015 US$)</td>\n",
       "      <td>NY.GDP.MKTP.KD</td>\n",
       "      <td>NaN</td>\n",
       "      <td>NaN</td>\n",
       "      <td>NaN</td>\n",
       "      <td>NaN</td>\n",
       "      <td>NaN</td>\n",
       "      <td>NaN</td>\n",
       "      <td>...</td>\n",
       "      <td>1.886050e+10</td>\n",
       "      <td>1.913422e+10</td>\n",
       "      <td>1.956672e+10</td>\n",
       "      <td>2.008465e+10</td>\n",
       "      <td>2.032350e+10</td>\n",
       "      <td>2.111847e+10</td>\n",
       "      <td>2.062196e+10</td>\n",
       "      <td>1.634520e+10</td>\n",
       "      <td>NaN</td>\n",
       "      <td>NaN</td>\n",
       "    </tr>\n",
       "    <tr>\n",
       "      <th>3</th>\n",
       "      <td>Africa Western and Central</td>\n",
       "      <td>AFW</td>\n",
       "      <td>GDP (constant 2015 US$)</td>\n",
       "      <td>NY.GDP.MKTP.KD</td>\n",
       "      <td>1.058912e+11</td>\n",
       "      <td>1.078584e+11</td>\n",
       "      <td>1.119278e+11</td>\n",
       "      <td>1.200731e+11</td>\n",
       "      <td>1.265726e+11</td>\n",
       "      <td>1.317427e+11</td>\n",
       "      <td>...</td>\n",
       "      <td>7.482119e+11</td>\n",
       "      <td>7.692632e+11</td>\n",
       "      <td>7.703563e+11</td>\n",
       "      <td>7.879687e+11</td>\n",
       "      <td>8.103378e+11</td>\n",
       "      <td>8.362760e+11</td>\n",
       "      <td>8.284304e+11</td>\n",
       "      <td>8.613714e+11</td>\n",
       "      <td>8.938137e+11</td>\n",
       "      <td>NaN</td>\n",
       "    </tr>\n",
       "    <tr>\n",
       "      <th>4</th>\n",
       "      <td>Angola</td>\n",
       "      <td>AGO</td>\n",
       "      <td>GDP (constant 2015 US$)</td>\n",
       "      <td>NY.GDP.MKTP.KD</td>\n",
       "      <td>NaN</td>\n",
       "      <td>NaN</td>\n",
       "      <td>NaN</td>\n",
       "      <td>NaN</td>\n",
       "      <td>NaN</td>\n",
       "      <td>NaN</td>\n",
       "      <td>...</td>\n",
       "      <td>8.965050e+10</td>\n",
       "      <td>9.049642e+10</td>\n",
       "      <td>8.816151e+10</td>\n",
       "      <td>8.803178e+10</td>\n",
       "      <td>8.687297e+10</td>\n",
       "      <td>8.626288e+10</td>\n",
       "      <td>8.139919e+10</td>\n",
       "      <td>8.237534e+10</td>\n",
       "      <td>8.488400e+10</td>\n",
       "      <td>NaN</td>\n",
       "    </tr>\n",
       "  </tbody>\n",
       "</table>\n",
       "<p>5 rows × 68 columns</p>\n",
       "</div>"
      ],
      "text/plain": [
       "                  Country Name Country Code           Indicator Name  \\\n",
       "0                        Aruba          ABW  GDP (constant 2015 US$)   \n",
       "1  Africa Eastern and Southern          AFE  GDP (constant 2015 US$)   \n",
       "2                  Afghanistan          AFG  GDP (constant 2015 US$)   \n",
       "3   Africa Western and Central          AFW  GDP (constant 2015 US$)   \n",
       "4                       Angola          AGO  GDP (constant 2015 US$)   \n",
       "\n",
       "   Indicator Code          1960          1961          1962          1963  \\\n",
       "0  NY.GDP.MKTP.KD           NaN           NaN           NaN           NaN   \n",
       "1  NY.GDP.MKTP.KD  1.547764e+11  1.551709e+11  1.675316e+11  1.761564e+11   \n",
       "2  NY.GDP.MKTP.KD           NaN           NaN           NaN           NaN   \n",
       "3  NY.GDP.MKTP.KD  1.058912e+11  1.078584e+11  1.119278e+11  1.200731e+11   \n",
       "4  NY.GDP.MKTP.KD           NaN           NaN           NaN           NaN   \n",
       "\n",
       "           1964          1965  ...          2014          2015          2016  \\\n",
       "0           NaN           NaN  ...  2.981501e+09  2.962907e+09  3.013858e+09   \n",
       "1  1.842232e+11  1.940722e+11  ...  9.056601e+11  9.325135e+11  9.532061e+11   \n",
       "2           NaN           NaN  ...  1.886050e+10  1.913422e+10  1.956672e+10   \n",
       "3  1.265726e+11  1.317427e+11  ...  7.482119e+11  7.692632e+11  7.703563e+11   \n",
       "4           NaN           NaN  ...  8.965050e+10  9.049642e+10  8.816151e+10   \n",
       "\n",
       "           2017          2018          2019          2020          2021  \\\n",
       "0  3.226291e+09  3.303132e+09  3.227067e+09  2.453133e+09  3.131163e+09   \n",
       "1  9.777220e+11  1.002081e+12  1.022529e+12  9.939082e+11  1.036651e+12   \n",
       "2  2.008465e+10  2.032350e+10  2.111847e+10  2.062196e+10  1.634520e+10   \n",
       "3  7.879687e+11  8.103378e+11  8.362760e+11  8.284304e+11  8.613714e+11   \n",
       "4  8.803178e+10  8.687297e+10  8.626288e+10  8.139919e+10  8.237534e+10   \n",
       "\n",
       "           2022  2023  \n",
       "0  3.458630e+09   NaN  \n",
       "1  1.072261e+12   NaN  \n",
       "2           NaN   NaN  \n",
       "3  8.938137e+11   NaN  \n",
       "4  8.488400e+10   NaN  \n",
       "\n",
       "[5 rows x 68 columns]"
      ]
     },
     "execution_count": 9,
     "metadata": {},
     "output_type": "execute_result"
    }
   ],
   "source": [
    "#Delete first 3 rows\n",
    "GDP = pd.read_excel(GDP, skiprows=3)\n",
    "GDP.head()"
   ]
  },
  {
   "cell_type": "code",
   "execution_count": 10,
   "metadata": {},
   "outputs": [
    {
     "data": {
      "text/html": [
       "<div>\n",
       "<style scoped>\n",
       "    .dataframe tbody tr th:only-of-type {\n",
       "        vertical-align: middle;\n",
       "    }\n",
       "\n",
       "    .dataframe tbody tr th {\n",
       "        vertical-align: top;\n",
       "    }\n",
       "\n",
       "    .dataframe thead th {\n",
       "        text-align: right;\n",
       "    }\n",
       "</style>\n",
       "<table border=\"1\" class=\"dataframe\">\n",
       "  <thead>\n",
       "    <tr style=\"text-align: right;\">\n",
       "      <th></th>\n",
       "      <th>Country_Name</th>\n",
       "      <th>Country_Code</th>\n",
       "      <th>Indicator_Name</th>\n",
       "      <th>Indicator_Code</th>\n",
       "      <th>1960</th>\n",
       "      <th>1961</th>\n",
       "      <th>1962</th>\n",
       "      <th>1963</th>\n",
       "      <th>1964</th>\n",
       "      <th>1965</th>\n",
       "      <th>...</th>\n",
       "      <th>2014</th>\n",
       "      <th>2015</th>\n",
       "      <th>2016</th>\n",
       "      <th>2017</th>\n",
       "      <th>2018</th>\n",
       "      <th>2019</th>\n",
       "      <th>2020</th>\n",
       "      <th>2021</th>\n",
       "      <th>2022</th>\n",
       "      <th>2023</th>\n",
       "    </tr>\n",
       "  </thead>\n",
       "  <tbody>\n",
       "    <tr>\n",
       "      <th>0</th>\n",
       "      <td>Aruba</td>\n",
       "      <td>ABW</td>\n",
       "      <td>GDP (constant 2015 US$)</td>\n",
       "      <td>NY.GDP.MKTP.KD</td>\n",
       "      <td>NaN</td>\n",
       "      <td>NaN</td>\n",
       "      <td>NaN</td>\n",
       "      <td>NaN</td>\n",
       "      <td>NaN</td>\n",
       "      <td>NaN</td>\n",
       "      <td>...</td>\n",
       "      <td>2.981501e+09</td>\n",
       "      <td>2.962907e+09</td>\n",
       "      <td>3.013858e+09</td>\n",
       "      <td>3.226291e+09</td>\n",
       "      <td>3.303132e+09</td>\n",
       "      <td>3.227067e+09</td>\n",
       "      <td>2.453133e+09</td>\n",
       "      <td>3.131163e+09</td>\n",
       "      <td>3.458630e+09</td>\n",
       "      <td>NaN</td>\n",
       "    </tr>\n",
       "    <tr>\n",
       "      <th>1</th>\n",
       "      <td>Africa Eastern and Southern</td>\n",
       "      <td>AFE</td>\n",
       "      <td>GDP (constant 2015 US$)</td>\n",
       "      <td>NY.GDP.MKTP.KD</td>\n",
       "      <td>1.547764e+11</td>\n",
       "      <td>1.551709e+11</td>\n",
       "      <td>1.675316e+11</td>\n",
       "      <td>1.761564e+11</td>\n",
       "      <td>1.842232e+11</td>\n",
       "      <td>1.940722e+11</td>\n",
       "      <td>...</td>\n",
       "      <td>9.056601e+11</td>\n",
       "      <td>9.325135e+11</td>\n",
       "      <td>9.532061e+11</td>\n",
       "      <td>9.777220e+11</td>\n",
       "      <td>1.002081e+12</td>\n",
       "      <td>1.022529e+12</td>\n",
       "      <td>9.939082e+11</td>\n",
       "      <td>1.036651e+12</td>\n",
       "      <td>1.072261e+12</td>\n",
       "      <td>NaN</td>\n",
       "    </tr>\n",
       "    <tr>\n",
       "      <th>2</th>\n",
       "      <td>Afghanistan</td>\n",
       "      <td>AFG</td>\n",
       "      <td>GDP (constant 2015 US$)</td>\n",
       "      <td>NY.GDP.MKTP.KD</td>\n",
       "      <td>NaN</td>\n",
       "      <td>NaN</td>\n",
       "      <td>NaN</td>\n",
       "      <td>NaN</td>\n",
       "      <td>NaN</td>\n",
       "      <td>NaN</td>\n",
       "      <td>...</td>\n",
       "      <td>1.886050e+10</td>\n",
       "      <td>1.913422e+10</td>\n",
       "      <td>1.956672e+10</td>\n",
       "      <td>2.008465e+10</td>\n",
       "      <td>2.032350e+10</td>\n",
       "      <td>2.111847e+10</td>\n",
       "      <td>2.062196e+10</td>\n",
       "      <td>1.634520e+10</td>\n",
       "      <td>NaN</td>\n",
       "      <td>NaN</td>\n",
       "    </tr>\n",
       "    <tr>\n",
       "      <th>3</th>\n",
       "      <td>Africa Western and Central</td>\n",
       "      <td>AFW</td>\n",
       "      <td>GDP (constant 2015 US$)</td>\n",
       "      <td>NY.GDP.MKTP.KD</td>\n",
       "      <td>1.058912e+11</td>\n",
       "      <td>1.078584e+11</td>\n",
       "      <td>1.119278e+11</td>\n",
       "      <td>1.200731e+11</td>\n",
       "      <td>1.265726e+11</td>\n",
       "      <td>1.317427e+11</td>\n",
       "      <td>...</td>\n",
       "      <td>7.482119e+11</td>\n",
       "      <td>7.692632e+11</td>\n",
       "      <td>7.703563e+11</td>\n",
       "      <td>7.879687e+11</td>\n",
       "      <td>8.103378e+11</td>\n",
       "      <td>8.362760e+11</td>\n",
       "      <td>8.284304e+11</td>\n",
       "      <td>8.613714e+11</td>\n",
       "      <td>8.938137e+11</td>\n",
       "      <td>NaN</td>\n",
       "    </tr>\n",
       "    <tr>\n",
       "      <th>4</th>\n",
       "      <td>Angola</td>\n",
       "      <td>AGO</td>\n",
       "      <td>GDP (constant 2015 US$)</td>\n",
       "      <td>NY.GDP.MKTP.KD</td>\n",
       "      <td>NaN</td>\n",
       "      <td>NaN</td>\n",
       "      <td>NaN</td>\n",
       "      <td>NaN</td>\n",
       "      <td>NaN</td>\n",
       "      <td>NaN</td>\n",
       "      <td>...</td>\n",
       "      <td>8.965050e+10</td>\n",
       "      <td>9.049642e+10</td>\n",
       "      <td>8.816151e+10</td>\n",
       "      <td>8.803178e+10</td>\n",
       "      <td>8.687297e+10</td>\n",
       "      <td>8.626288e+10</td>\n",
       "      <td>8.139919e+10</td>\n",
       "      <td>8.237534e+10</td>\n",
       "      <td>8.488400e+10</td>\n",
       "      <td>NaN</td>\n",
       "    </tr>\n",
       "  </tbody>\n",
       "</table>\n",
       "<p>5 rows × 68 columns</p>\n",
       "</div>"
      ],
      "text/plain": [
       "                  Country_Name Country_Code           Indicator_Name  \\\n",
       "0                        Aruba          ABW  GDP (constant 2015 US$)   \n",
       "1  Africa Eastern and Southern          AFE  GDP (constant 2015 US$)   \n",
       "2                  Afghanistan          AFG  GDP (constant 2015 US$)   \n",
       "3   Africa Western and Central          AFW  GDP (constant 2015 US$)   \n",
       "4                       Angola          AGO  GDP (constant 2015 US$)   \n",
       "\n",
       "   Indicator_Code          1960          1961          1962          1963  \\\n",
       "0  NY.GDP.MKTP.KD           NaN           NaN           NaN           NaN   \n",
       "1  NY.GDP.MKTP.KD  1.547764e+11  1.551709e+11  1.675316e+11  1.761564e+11   \n",
       "2  NY.GDP.MKTP.KD           NaN           NaN           NaN           NaN   \n",
       "3  NY.GDP.MKTP.KD  1.058912e+11  1.078584e+11  1.119278e+11  1.200731e+11   \n",
       "4  NY.GDP.MKTP.KD           NaN           NaN           NaN           NaN   \n",
       "\n",
       "           1964          1965  ...          2014          2015          2016  \\\n",
       "0           NaN           NaN  ...  2.981501e+09  2.962907e+09  3.013858e+09   \n",
       "1  1.842232e+11  1.940722e+11  ...  9.056601e+11  9.325135e+11  9.532061e+11   \n",
       "2           NaN           NaN  ...  1.886050e+10  1.913422e+10  1.956672e+10   \n",
       "3  1.265726e+11  1.317427e+11  ...  7.482119e+11  7.692632e+11  7.703563e+11   \n",
       "4           NaN           NaN  ...  8.965050e+10  9.049642e+10  8.816151e+10   \n",
       "\n",
       "           2017          2018          2019          2020          2021  \\\n",
       "0  3.226291e+09  3.303132e+09  3.227067e+09  2.453133e+09  3.131163e+09   \n",
       "1  9.777220e+11  1.002081e+12  1.022529e+12  9.939082e+11  1.036651e+12   \n",
       "2  2.008465e+10  2.032350e+10  2.111847e+10  2.062196e+10  1.634520e+10   \n",
       "3  7.879687e+11  8.103378e+11  8.362760e+11  8.284304e+11  8.613714e+11   \n",
       "4  8.803178e+10  8.687297e+10  8.626288e+10  8.139919e+10  8.237534e+10   \n",
       "\n",
       "           2022  2023  \n",
       "0  3.458630e+09   NaN  \n",
       "1  1.072261e+12   NaN  \n",
       "2           NaN   NaN  \n",
       "3  8.938137e+11   NaN  \n",
       "4  8.488400e+10   NaN  \n",
       "\n",
       "[5 rows x 68 columns]"
      ]
     },
     "execution_count": 10,
     "metadata": {},
     "output_type": "execute_result"
    }
   ],
   "source": [
    "#Remove space in column names\n",
    "GDP = GDP.rename(columns=lambda x: x.replace(' ', '_'))\n",
    "GDP.head()"
   ]
  },
  {
   "cell_type": "code",
   "execution_count": 11,
   "metadata": {},
   "outputs": [],
   "source": [
    "#Select only World\n",
    "GDP = GDP.loc[GDP.Country_Name == 'World']"
   ]
  },
  {
   "cell_type": "code",
   "execution_count": 12,
   "metadata": {},
   "outputs": [
    {
     "data": {
      "text/html": [
       "<div>\n",
       "<style scoped>\n",
       "    .dataframe tbody tr th:only-of-type {\n",
       "        vertical-align: middle;\n",
       "    }\n",
       "\n",
       "    .dataframe tbody tr th {\n",
       "        vertical-align: top;\n",
       "    }\n",
       "\n",
       "    .dataframe thead th {\n",
       "        text-align: right;\n",
       "    }\n",
       "</style>\n",
       "<table border=\"1\" class=\"dataframe\">\n",
       "  <thead>\n",
       "    <tr style=\"text-align: right;\">\n",
       "      <th></th>\n",
       "      <th>1960</th>\n",
       "      <th>1961</th>\n",
       "      <th>1962</th>\n",
       "      <th>1963</th>\n",
       "      <th>1964</th>\n",
       "      <th>1965</th>\n",
       "      <th>1966</th>\n",
       "      <th>1967</th>\n",
       "      <th>1968</th>\n",
       "      <th>1969</th>\n",
       "      <th>...</th>\n",
       "      <th>2014</th>\n",
       "      <th>2015</th>\n",
       "      <th>2016</th>\n",
       "      <th>2017</th>\n",
       "      <th>2018</th>\n",
       "      <th>2019</th>\n",
       "      <th>2020</th>\n",
       "      <th>2021</th>\n",
       "      <th>2022</th>\n",
       "      <th>2023</th>\n",
       "    </tr>\n",
       "  </thead>\n",
       "  <tbody>\n",
       "    <tr>\n",
       "      <th>259</th>\n",
       "      <td>1.091827e+13</td>\n",
       "      <td>1.133020e+13</td>\n",
       "      <td>1.193924e+13</td>\n",
       "      <td>1.255948e+13</td>\n",
       "      <td>1.338394e+13</td>\n",
       "      <td>1.413042e+13</td>\n",
       "      <td>1.494156e+13</td>\n",
       "      <td>1.555776e+13</td>\n",
       "      <td>1.647904e+13</td>\n",
       "      <td>1.743295e+13</td>\n",
       "      <td>...</td>\n",
       "      <td>7.304120e+13</td>\n",
       "      <td>7.528327e+13</td>\n",
       "      <td>7.738123e+13</td>\n",
       "      <td>8.000914e+13</td>\n",
       "      <td>8.263047e+13</td>\n",
       "      <td>8.477125e+13</td>\n",
       "      <td>8.217910e+13</td>\n",
       "      <td>8.729771e+13</td>\n",
       "      <td>8.999466e+13</td>\n",
       "      <td>NaN</td>\n",
       "    </tr>\n",
       "  </tbody>\n",
       "</table>\n",
       "<p>1 rows × 64 columns</p>\n",
       "</div>"
      ],
      "text/plain": [
       "             1960          1961          1962          1963          1964  \\\n",
       "259  1.091827e+13  1.133020e+13  1.193924e+13  1.255948e+13  1.338394e+13   \n",
       "\n",
       "             1965          1966          1967          1968          1969  \\\n",
       "259  1.413042e+13  1.494156e+13  1.555776e+13  1.647904e+13  1.743295e+13   \n",
       "\n",
       "     ...          2014          2015          2016          2017  \\\n",
       "259  ...  7.304120e+13  7.528327e+13  7.738123e+13  8.000914e+13   \n",
       "\n",
       "             2018          2019          2020          2021          2022  \\\n",
       "259  8.263047e+13  8.477125e+13  8.217910e+13  8.729771e+13  8.999466e+13   \n",
       "\n",
       "     2023  \n",
       "259   NaN  \n",
       "\n",
       "[1 rows x 64 columns]"
      ]
     },
     "execution_count": 12,
     "metadata": {},
     "output_type": "execute_result"
    }
   ],
   "source": [
    "#Keep only years\n",
    "drop_these = ['Country_Name','Country_Code', 'Indicator_Name', 'Indicator_Code']\n",
    "GDP.drop(drop_these, axis=1, inplace=True)\n",
    "GDP"
   ]
  },
  {
   "cell_type": "code",
   "execution_count": 13,
   "metadata": {},
   "outputs": [
    {
     "data": {
      "text/html": [
       "<div>\n",
       "<style scoped>\n",
       "    .dataframe tbody tr th:only-of-type {\n",
       "        vertical-align: middle;\n",
       "    }\n",
       "\n",
       "    .dataframe tbody tr th {\n",
       "        vertical-align: top;\n",
       "    }\n",
       "\n",
       "    .dataframe thead th {\n",
       "        text-align: right;\n",
       "    }\n",
       "</style>\n",
       "<table border=\"1\" class=\"dataframe\">\n",
       "  <thead>\n",
       "    <tr style=\"text-align: right;\">\n",
       "      <th></th>\n",
       "      <th>259</th>\n",
       "      <th>Year</th>\n",
       "    </tr>\n",
       "  </thead>\n",
       "  <tbody>\n",
       "    <tr>\n",
       "      <th>1960</th>\n",
       "      <td>1.091827e+13</td>\n",
       "      <td>1960</td>\n",
       "    </tr>\n",
       "    <tr>\n",
       "      <th>1961</th>\n",
       "      <td>1.133020e+13</td>\n",
       "      <td>1961</td>\n",
       "    </tr>\n",
       "    <tr>\n",
       "      <th>1962</th>\n",
       "      <td>1.193924e+13</td>\n",
       "      <td>1962</td>\n",
       "    </tr>\n",
       "    <tr>\n",
       "      <th>1963</th>\n",
       "      <td>1.255948e+13</td>\n",
       "      <td>1963</td>\n",
       "    </tr>\n",
       "    <tr>\n",
       "      <th>1964</th>\n",
       "      <td>1.338394e+13</td>\n",
       "      <td>1964</td>\n",
       "    </tr>\n",
       "    <tr>\n",
       "      <th>...</th>\n",
       "      <td>...</td>\n",
       "      <td>...</td>\n",
       "    </tr>\n",
       "    <tr>\n",
       "      <th>2019</th>\n",
       "      <td>8.477125e+13</td>\n",
       "      <td>2019</td>\n",
       "    </tr>\n",
       "    <tr>\n",
       "      <th>2020</th>\n",
       "      <td>8.217910e+13</td>\n",
       "      <td>2020</td>\n",
       "    </tr>\n",
       "    <tr>\n",
       "      <th>2021</th>\n",
       "      <td>8.729771e+13</td>\n",
       "      <td>2021</td>\n",
       "    </tr>\n",
       "    <tr>\n",
       "      <th>2022</th>\n",
       "      <td>8.999466e+13</td>\n",
       "      <td>2022</td>\n",
       "    </tr>\n",
       "    <tr>\n",
       "      <th>2023</th>\n",
       "      <td>NaN</td>\n",
       "      <td>2023</td>\n",
       "    </tr>\n",
       "  </tbody>\n",
       "</table>\n",
       "<p>64 rows × 2 columns</p>\n",
       "</div>"
      ],
      "text/plain": [
       "               259  Year\n",
       "1960  1.091827e+13  1960\n",
       "1961  1.133020e+13  1961\n",
       "1962  1.193924e+13  1962\n",
       "1963  1.255948e+13  1963\n",
       "1964  1.338394e+13  1964\n",
       "...            ...   ...\n",
       "2019  8.477125e+13  2019\n",
       "2020  8.217910e+13  2020\n",
       "2021  8.729771e+13  2021\n",
       "2022  8.999466e+13  2022\n",
       "2023           NaN  2023\n",
       "\n",
       "[64 rows x 2 columns]"
      ]
     },
     "execution_count": 13,
     "metadata": {},
     "output_type": "execute_result"
    }
   ],
   "source": [
    "#Transpose the table\n",
    "GDP = GDP.transpose()\n",
    "GDP['Year'] = GDP.index\n",
    "GDP"
   ]
  },
  {
   "cell_type": "code",
   "execution_count": 14,
   "metadata": {},
   "outputs": [
    {
     "data": {
      "text/html": [
       "<div>\n",
       "<style scoped>\n",
       "    .dataframe tbody tr th:only-of-type {\n",
       "        vertical-align: middle;\n",
       "    }\n",
       "\n",
       "    .dataframe tbody tr th {\n",
       "        vertical-align: top;\n",
       "    }\n",
       "\n",
       "    .dataframe thead th {\n",
       "        text-align: right;\n",
       "    }\n",
       "</style>\n",
       "<table border=\"1\" class=\"dataframe\">\n",
       "  <thead>\n",
       "    <tr style=\"text-align: right;\">\n",
       "      <th></th>\n",
       "      <th>GDP</th>\n",
       "      <th>Year</th>\n",
       "    </tr>\n",
       "  </thead>\n",
       "  <tbody>\n",
       "    <tr>\n",
       "      <th>0</th>\n",
       "      <td>1.091827e+13</td>\n",
       "      <td>1960</td>\n",
       "    </tr>\n",
       "    <tr>\n",
       "      <th>1</th>\n",
       "      <td>1.133020e+13</td>\n",
       "      <td>1961</td>\n",
       "    </tr>\n",
       "    <tr>\n",
       "      <th>2</th>\n",
       "      <td>1.193924e+13</td>\n",
       "      <td>1962</td>\n",
       "    </tr>\n",
       "    <tr>\n",
       "      <th>3</th>\n",
       "      <td>1.255948e+13</td>\n",
       "      <td>1963</td>\n",
       "    </tr>\n",
       "    <tr>\n",
       "      <th>4</th>\n",
       "      <td>1.338394e+13</td>\n",
       "      <td>1964</td>\n",
       "    </tr>\n",
       "    <tr>\n",
       "      <th>...</th>\n",
       "      <td>...</td>\n",
       "      <td>...</td>\n",
       "    </tr>\n",
       "    <tr>\n",
       "      <th>59</th>\n",
       "      <td>8.477125e+13</td>\n",
       "      <td>2019</td>\n",
       "    </tr>\n",
       "    <tr>\n",
       "      <th>60</th>\n",
       "      <td>8.217910e+13</td>\n",
       "      <td>2020</td>\n",
       "    </tr>\n",
       "    <tr>\n",
       "      <th>61</th>\n",
       "      <td>8.729771e+13</td>\n",
       "      <td>2021</td>\n",
       "    </tr>\n",
       "    <tr>\n",
       "      <th>62</th>\n",
       "      <td>8.999466e+13</td>\n",
       "      <td>2022</td>\n",
       "    </tr>\n",
       "    <tr>\n",
       "      <th>63</th>\n",
       "      <td>NaN</td>\n",
       "      <td>2023</td>\n",
       "    </tr>\n",
       "  </tbody>\n",
       "</table>\n",
       "<p>64 rows × 2 columns</p>\n",
       "</div>"
      ],
      "text/plain": [
       "             GDP  Year\n",
       "0   1.091827e+13  1960\n",
       "1   1.133020e+13  1961\n",
       "2   1.193924e+13  1962\n",
       "3   1.255948e+13  1963\n",
       "4   1.338394e+13  1964\n",
       "..           ...   ...\n",
       "59  8.477125e+13  2019\n",
       "60  8.217910e+13  2020\n",
       "61  8.729771e+13  2021\n",
       "62  8.999466e+13  2022\n",
       "63           NaN  2023\n",
       "\n",
       "[64 rows x 2 columns]"
      ]
     },
     "execution_count": 14,
     "metadata": {},
     "output_type": "execute_result"
    }
   ],
   "source": [
    "#Rename the columns\n",
    "GDP.rename(columns = {259:'GDP'}, inplace=True)\n",
    "GDP.reset_index(inplace = True, drop = True)\n",
    "GDP"
   ]
  },
  {
   "cell_type": "code",
   "execution_count": 15,
   "metadata": {},
   "outputs": [
    {
     "data": {
      "text/html": [
       "<div>\n",
       "<style scoped>\n",
       "    .dataframe tbody tr th:only-of-type {\n",
       "        vertical-align: middle;\n",
       "    }\n",
       "\n",
       "    .dataframe tbody tr th {\n",
       "        vertical-align: top;\n",
       "    }\n",
       "\n",
       "    .dataframe thead th {\n",
       "        text-align: right;\n",
       "    }\n",
       "</style>\n",
       "<table border=\"1\" class=\"dataframe\">\n",
       "  <thead>\n",
       "    <tr style=\"text-align: right;\">\n",
       "      <th></th>\n",
       "      <th>GDP</th>\n",
       "      <th>Year</th>\n",
       "    </tr>\n",
       "  </thead>\n",
       "  <tbody>\n",
       "    <tr>\n",
       "      <th>0</th>\n",
       "      <td>1.091827e+13</td>\n",
       "      <td>1960</td>\n",
       "    </tr>\n",
       "    <tr>\n",
       "      <th>1</th>\n",
       "      <td>1.133020e+13</td>\n",
       "      <td>1961</td>\n",
       "    </tr>\n",
       "    <tr>\n",
       "      <th>2</th>\n",
       "      <td>1.193924e+13</td>\n",
       "      <td>1962</td>\n",
       "    </tr>\n",
       "    <tr>\n",
       "      <th>3</th>\n",
       "      <td>1.255948e+13</td>\n",
       "      <td>1963</td>\n",
       "    </tr>\n",
       "    <tr>\n",
       "      <th>4</th>\n",
       "      <td>1.338394e+13</td>\n",
       "      <td>1964</td>\n",
       "    </tr>\n",
       "    <tr>\n",
       "      <th>...</th>\n",
       "      <td>...</td>\n",
       "      <td>...</td>\n",
       "    </tr>\n",
       "    <tr>\n",
       "      <th>58</th>\n",
       "      <td>8.263047e+13</td>\n",
       "      <td>2018</td>\n",
       "    </tr>\n",
       "    <tr>\n",
       "      <th>59</th>\n",
       "      <td>8.477125e+13</td>\n",
       "      <td>2019</td>\n",
       "    </tr>\n",
       "    <tr>\n",
       "      <th>60</th>\n",
       "      <td>8.217910e+13</td>\n",
       "      <td>2020</td>\n",
       "    </tr>\n",
       "    <tr>\n",
       "      <th>61</th>\n",
       "      <td>8.729771e+13</td>\n",
       "      <td>2021</td>\n",
       "    </tr>\n",
       "    <tr>\n",
       "      <th>62</th>\n",
       "      <td>8.999466e+13</td>\n",
       "      <td>2022</td>\n",
       "    </tr>\n",
       "  </tbody>\n",
       "</table>\n",
       "<p>63 rows × 2 columns</p>\n",
       "</div>"
      ],
      "text/plain": [
       "             GDP  Year\n",
       "0   1.091827e+13  1960\n",
       "1   1.133020e+13  1961\n",
       "2   1.193924e+13  1962\n",
       "3   1.255948e+13  1963\n",
       "4   1.338394e+13  1964\n",
       "..           ...   ...\n",
       "58  8.263047e+13  2018\n",
       "59  8.477125e+13  2019\n",
       "60  8.217910e+13  2020\n",
       "61  8.729771e+13  2021\n",
       "62  8.999466e+13  2022\n",
       "\n",
       "[63 rows x 2 columns]"
      ]
     },
     "execution_count": 15,
     "metadata": {},
     "output_type": "execute_result"
    }
   ],
   "source": [
    "#Removing the year 2023, since there is no data\n",
    "GDP.loc[GDP.GDP >= 0]"
   ]
  },
  {
   "cell_type": "markdown",
   "metadata": {},
   "source": [
    "## Explore each data set"
   ]
  },
  {
   "cell_type": "markdown",
   "metadata": {},
   "source": [
    "#### Temperature Data"
   ]
  },
  {
   "cell_type": "code",
   "execution_count": 22,
   "metadata": {},
   "outputs": [
    {
     "data": {
      "application/vnd.plotly.v1+json": {
       "config": {
        "plotlyServerURL": "https://plot.ly"
       },
       "data": [
        {
         "hovertemplate": "Year: %{x}<br>Temperature: %{y}°C",
         "legendgroup": "",
         "line": {
          "color": "#636efa",
          "dash": "solid"
         },
         "marker": {
          "symbol": "circle"
         },
         "mode": "lines+markers",
         "name": "",
         "orientation": "v",
         "showlegend": false,
         "type": "scatter",
         "x": [
          1880,
          1881,
          1882,
          1883,
          1884,
          1885,
          1886,
          1887,
          1888,
          1889,
          1890,
          1891,
          1892,
          1893,
          1894,
          1895,
          1896,
          1897,
          1898,
          1899,
          1900,
          1901,
          1902,
          1903,
          1904,
          1905,
          1906,
          1907,
          1908,
          1909,
          1910,
          1911,
          1912,
          1913,
          1914,
          1915,
          1916,
          1917,
          1918,
          1919,
          1920,
          1921,
          1922,
          1923,
          1924,
          1925,
          1926,
          1927,
          1928,
          1929,
          1930,
          1931,
          1932,
          1933,
          1934,
          1935,
          1936,
          1937,
          1938,
          1939,
          1940,
          1941,
          1942,
          1943,
          1944,
          1945,
          1946,
          1947,
          1948,
          1949,
          1950,
          1951,
          1952,
          1953,
          1954,
          1955,
          1956,
          1957,
          1958,
          1959,
          1960,
          1961,
          1962,
          1963,
          1964,
          1965,
          1966,
          1967,
          1968,
          1969,
          1970,
          1971,
          1972,
          1973,
          1974,
          1975,
          1976,
          1977,
          1978,
          1979,
          1980,
          1981,
          1982,
          1983,
          1984,
          1985,
          1986,
          1987,
          1988,
          1989,
          1990,
          1991,
          1992,
          1993,
          1994,
          1995,
          1996,
          1997,
          1998,
          1999,
          2000,
          2001,
          2002,
          2003,
          2004,
          2005,
          2006,
          2007,
          2008,
          2009,
          2010,
          2011,
          2012,
          2013,
          2014,
          2015,
          2016,
          2017,
          2018,
          2019,
          2020,
          2021,
          2022,
          2023
         ],
         "xaxis": "x",
         "y": [
          -0.16249999999999998,
          -0.08083333333333333,
          -0.1075,
          -0.16833333333333333,
          -0.27499999999999997,
          -0.3283333333333333,
          -0.30583333333333335,
          -0.3566666666666667,
          -0.16999999999999996,
          -0.10083333333333334,
          -0.3475,
          -0.22083333333333333,
          -0.27166666666666667,
          -0.3041666666666667,
          -0.2966666666666667,
          -0.22250000000000003,
          -0.10916666666666668,
          -0.10666666666666667,
          -0.2708333333333333,
          -0.17250000000000001,
          -0.07833333333333332,
          -0.1525,
          -0.2758333333333333,
          -0.3641666666666667,
          -0.46416666666666667,
          -0.25083333333333335,
          -0.21416666666666664,
          -0.37916666666666665,
          -0.4175,
          -0.4758333333333333,
          -0.4266666666666667,
          -0.4366666666666666,
          -0.36000000000000004,
          -0.3333333333333333,
          -0.14416666666666664,
          -0.13083333333333333,
          -0.35250000000000004,
          -0.45250000000000007,
          -0.2925,
          -0.2725,
          -0.2683333333333333,
          -0.18166666666666667,
          -0.2783333333333333,
          -0.2608333333333333,
          -0.26833333333333337,
          -0.21583333333333335,
          -0.1075,
          -0.21666666666666665,
          -0.19999999999999998,
          -0.3591666666666667,
          -0.15416666666666667,
          -0.08833333333333333,
          -0.15583333333333335,
          -0.2833333333333333,
          -0.12166666666666666,
          -0.19583333333333333,
          -0.14333333333333334,
          -0.026666666666666672,
          0.0008333333333333364,
          -0.015833333333333352,
          0.12666666666666668,
          0.1875,
          0.06749999999999999,
          0.09250000000000001,
          0.20666666666666664,
          0.09499999999999999,
          -0.07083333333333335,
          -0.023333333333333334,
          -0.105,
          -0.10916666666666668,
          -0.1741666666666667,
          -0.06916666666666665,
          0.010833333333333335,
          0.08,
          -0.13416666666666666,
          -0.14083333333333334,
          -0.19083333333333333,
          0.04750000000000001,
          0.060000000000000005,
          0.029166666666666664,
          -0.024999999999999998,
          0.056666666666666664,
          0.03083333333333334,
          0.055,
          -0.19833333333333333,
          -0.10666666666666669,
          -0.05666666666666667,
          -0.023333333333333334,
          -0.0825,
          0.05333333333333334,
          0.027500000000000007,
          -0.08,
          0.00833333333333333,
          0.16,
          -0.07,
          -0.012500000000000006,
          -0.09749999999999999,
          0.17833333333333332,
          0.06916666666666667,
          0.16583333333333333,
          0.25666666666666665,
          0.3225,
          0.13999999999999999,
          0.3125,
          0.15583333333333332,
          0.11583333333333334,
          0.17999999999999997,
          0.32083333333333336,
          0.3891666666666667,
          0.27166666666666667,
          0.44583333333333347,
          0.405,
          0.2216666666666667,
          0.2308333333333333,
          0.31416666666666665,
          0.44583333333333336,
          0.3333333333333333,
          0.465,
          0.6083333333333333,
          0.38000000000000006,
          0.3933333333333333,
          0.5341666666666667,
          0.6275000000000001,
          0.6183333333333334,
          0.5341666666666667,
          0.6766666666666666,
          0.6375000000000001,
          0.6633333333333332,
          0.5408333333333333,
          0.6541666666666667,
          0.7241666666666665,
          0.6083333333333334,
          0.6466666666666666,
          0.6766666666666666,
          0.745,
          0.8991666666666668,
          1.0158333333333334,
          0.9216666666666667,
          0.8500000000000001,
          0.9766666666666667,
          1.0116666666666665,
          0.8458333333333332,
          0.8925000000000001,
          1.1683333333333332
         ],
         "yaxis": "y"
        }
       ],
       "layout": {
        "height": 800,
        "legend": {
         "tracegroupgap": 0
        },
        "shapes": [
         {
          "line": {
           "color": "Red",
           "dash": "dash",
           "width": 1
          },
          "name": "1940",
          "type": "line",
          "x0": 1940,
          "x1": 1940,
          "y0": -0.5,
          "y1": 1.25
         },
         {
          "line": {
           "color": "Green",
           "dash": "dash",
           "width": 1
          },
          "name": "1980",
          "type": "line",
          "x0": 1980,
          "x1": 1980,
          "y0": -0.5,
          "y1": 1.25
         }
        ],
        "template": {
         "data": {
          "bar": [
           {
            "error_x": {
             "color": "#2a3f5f"
            },
            "error_y": {
             "color": "#2a3f5f"
            },
            "marker": {
             "line": {
              "color": "#E5ECF6",
              "width": 0.5
             },
             "pattern": {
              "fillmode": "overlay",
              "size": 10,
              "solidity": 0.2
             }
            },
            "type": "bar"
           }
          ],
          "barpolar": [
           {
            "marker": {
             "line": {
              "color": "#E5ECF6",
              "width": 0.5
             },
             "pattern": {
              "fillmode": "overlay",
              "size": 10,
              "solidity": 0.2
             }
            },
            "type": "barpolar"
           }
          ],
          "carpet": [
           {
            "aaxis": {
             "endlinecolor": "#2a3f5f",
             "gridcolor": "white",
             "linecolor": "white",
             "minorgridcolor": "white",
             "startlinecolor": "#2a3f5f"
            },
            "baxis": {
             "endlinecolor": "#2a3f5f",
             "gridcolor": "white",
             "linecolor": "white",
             "minorgridcolor": "white",
             "startlinecolor": "#2a3f5f"
            },
            "type": "carpet"
           }
          ],
          "choropleth": [
           {
            "colorbar": {
             "outlinewidth": 0,
             "ticks": ""
            },
            "type": "choropleth"
           }
          ],
          "contour": [
           {
            "colorbar": {
             "outlinewidth": 0,
             "ticks": ""
            },
            "colorscale": [
             [
              0,
              "#0d0887"
             ],
             [
              0.1111111111111111,
              "#46039f"
             ],
             [
              0.2222222222222222,
              "#7201a8"
             ],
             [
              0.3333333333333333,
              "#9c179e"
             ],
             [
              0.4444444444444444,
              "#bd3786"
             ],
             [
              0.5555555555555556,
              "#d8576b"
             ],
             [
              0.6666666666666666,
              "#ed7953"
             ],
             [
              0.7777777777777778,
              "#fb9f3a"
             ],
             [
              0.8888888888888888,
              "#fdca26"
             ],
             [
              1,
              "#f0f921"
             ]
            ],
            "type": "contour"
           }
          ],
          "contourcarpet": [
           {
            "colorbar": {
             "outlinewidth": 0,
             "ticks": ""
            },
            "type": "contourcarpet"
           }
          ],
          "heatmap": [
           {
            "colorbar": {
             "outlinewidth": 0,
             "ticks": ""
            },
            "colorscale": [
             [
              0,
              "#0d0887"
             ],
             [
              0.1111111111111111,
              "#46039f"
             ],
             [
              0.2222222222222222,
              "#7201a8"
             ],
             [
              0.3333333333333333,
              "#9c179e"
             ],
             [
              0.4444444444444444,
              "#bd3786"
             ],
             [
              0.5555555555555556,
              "#d8576b"
             ],
             [
              0.6666666666666666,
              "#ed7953"
             ],
             [
              0.7777777777777778,
              "#fb9f3a"
             ],
             [
              0.8888888888888888,
              "#fdca26"
             ],
             [
              1,
              "#f0f921"
             ]
            ],
            "type": "heatmap"
           }
          ],
          "heatmapgl": [
           {
            "colorbar": {
             "outlinewidth": 0,
             "ticks": ""
            },
            "colorscale": [
             [
              0,
              "#0d0887"
             ],
             [
              0.1111111111111111,
              "#46039f"
             ],
             [
              0.2222222222222222,
              "#7201a8"
             ],
             [
              0.3333333333333333,
              "#9c179e"
             ],
             [
              0.4444444444444444,
              "#bd3786"
             ],
             [
              0.5555555555555556,
              "#d8576b"
             ],
             [
              0.6666666666666666,
              "#ed7953"
             ],
             [
              0.7777777777777778,
              "#fb9f3a"
             ],
             [
              0.8888888888888888,
              "#fdca26"
             ],
             [
              1,
              "#f0f921"
             ]
            ],
            "type": "heatmapgl"
           }
          ],
          "histogram": [
           {
            "marker": {
             "pattern": {
              "fillmode": "overlay",
              "size": 10,
              "solidity": 0.2
             }
            },
            "type": "histogram"
           }
          ],
          "histogram2d": [
           {
            "colorbar": {
             "outlinewidth": 0,
             "ticks": ""
            },
            "colorscale": [
             [
              0,
              "#0d0887"
             ],
             [
              0.1111111111111111,
              "#46039f"
             ],
             [
              0.2222222222222222,
              "#7201a8"
             ],
             [
              0.3333333333333333,
              "#9c179e"
             ],
             [
              0.4444444444444444,
              "#bd3786"
             ],
             [
              0.5555555555555556,
              "#d8576b"
             ],
             [
              0.6666666666666666,
              "#ed7953"
             ],
             [
              0.7777777777777778,
              "#fb9f3a"
             ],
             [
              0.8888888888888888,
              "#fdca26"
             ],
             [
              1,
              "#f0f921"
             ]
            ],
            "type": "histogram2d"
           }
          ],
          "histogram2dcontour": [
           {
            "colorbar": {
             "outlinewidth": 0,
             "ticks": ""
            },
            "colorscale": [
             [
              0,
              "#0d0887"
             ],
             [
              0.1111111111111111,
              "#46039f"
             ],
             [
              0.2222222222222222,
              "#7201a8"
             ],
             [
              0.3333333333333333,
              "#9c179e"
             ],
             [
              0.4444444444444444,
              "#bd3786"
             ],
             [
              0.5555555555555556,
              "#d8576b"
             ],
             [
              0.6666666666666666,
              "#ed7953"
             ],
             [
              0.7777777777777778,
              "#fb9f3a"
             ],
             [
              0.8888888888888888,
              "#fdca26"
             ],
             [
              1,
              "#f0f921"
             ]
            ],
            "type": "histogram2dcontour"
           }
          ],
          "mesh3d": [
           {
            "colorbar": {
             "outlinewidth": 0,
             "ticks": ""
            },
            "type": "mesh3d"
           }
          ],
          "parcoords": [
           {
            "line": {
             "colorbar": {
              "outlinewidth": 0,
              "ticks": ""
             }
            },
            "type": "parcoords"
           }
          ],
          "pie": [
           {
            "automargin": true,
            "type": "pie"
           }
          ],
          "scatter": [
           {
            "fillpattern": {
             "fillmode": "overlay",
             "size": 10,
             "solidity": 0.2
            },
            "type": "scatter"
           }
          ],
          "scatter3d": [
           {
            "line": {
             "colorbar": {
              "outlinewidth": 0,
              "ticks": ""
             }
            },
            "marker": {
             "colorbar": {
              "outlinewidth": 0,
              "ticks": ""
             }
            },
            "type": "scatter3d"
           }
          ],
          "scattercarpet": [
           {
            "marker": {
             "colorbar": {
              "outlinewidth": 0,
              "ticks": ""
             }
            },
            "type": "scattercarpet"
           }
          ],
          "scattergeo": [
           {
            "marker": {
             "colorbar": {
              "outlinewidth": 0,
              "ticks": ""
             }
            },
            "type": "scattergeo"
           }
          ],
          "scattergl": [
           {
            "marker": {
             "colorbar": {
              "outlinewidth": 0,
              "ticks": ""
             }
            },
            "type": "scattergl"
           }
          ],
          "scattermapbox": [
           {
            "marker": {
             "colorbar": {
              "outlinewidth": 0,
              "ticks": ""
             }
            },
            "type": "scattermapbox"
           }
          ],
          "scatterpolar": [
           {
            "marker": {
             "colorbar": {
              "outlinewidth": 0,
              "ticks": ""
             }
            },
            "type": "scatterpolar"
           }
          ],
          "scatterpolargl": [
           {
            "marker": {
             "colorbar": {
              "outlinewidth": 0,
              "ticks": ""
             }
            },
            "type": "scatterpolargl"
           }
          ],
          "scatterternary": [
           {
            "marker": {
             "colorbar": {
              "outlinewidth": 0,
              "ticks": ""
             }
            },
            "type": "scatterternary"
           }
          ],
          "surface": [
           {
            "colorbar": {
             "outlinewidth": 0,
             "ticks": ""
            },
            "colorscale": [
             [
              0,
              "#0d0887"
             ],
             [
              0.1111111111111111,
              "#46039f"
             ],
             [
              0.2222222222222222,
              "#7201a8"
             ],
             [
              0.3333333333333333,
              "#9c179e"
             ],
             [
              0.4444444444444444,
              "#bd3786"
             ],
             [
              0.5555555555555556,
              "#d8576b"
             ],
             [
              0.6666666666666666,
              "#ed7953"
             ],
             [
              0.7777777777777778,
              "#fb9f3a"
             ],
             [
              0.8888888888888888,
              "#fdca26"
             ],
             [
              1,
              "#f0f921"
             ]
            ],
            "type": "surface"
           }
          ],
          "table": [
           {
            "cells": {
             "fill": {
              "color": "#EBF0F8"
             },
             "line": {
              "color": "white"
             }
            },
            "header": {
             "fill": {
              "color": "#C8D4E3"
             },
             "line": {
              "color": "white"
             }
            },
            "type": "table"
           }
          ]
         },
         "layout": {
          "annotationdefaults": {
           "arrowcolor": "#2a3f5f",
           "arrowhead": 0,
           "arrowwidth": 1
          },
          "autotypenumbers": "strict",
          "coloraxis": {
           "colorbar": {
            "outlinewidth": 0,
            "ticks": ""
           }
          },
          "colorscale": {
           "diverging": [
            [
             0,
             "#8e0152"
            ],
            [
             0.1,
             "#c51b7d"
            ],
            [
             0.2,
             "#de77ae"
            ],
            [
             0.3,
             "#f1b6da"
            ],
            [
             0.4,
             "#fde0ef"
            ],
            [
             0.5,
             "#f7f7f7"
            ],
            [
             0.6,
             "#e6f5d0"
            ],
            [
             0.7,
             "#b8e186"
            ],
            [
             0.8,
             "#7fbc41"
            ],
            [
             0.9,
             "#4d9221"
            ],
            [
             1,
             "#276419"
            ]
           ],
           "sequential": [
            [
             0,
             "#0d0887"
            ],
            [
             0.1111111111111111,
             "#46039f"
            ],
            [
             0.2222222222222222,
             "#7201a8"
            ],
            [
             0.3333333333333333,
             "#9c179e"
            ],
            [
             0.4444444444444444,
             "#bd3786"
            ],
            [
             0.5555555555555556,
             "#d8576b"
            ],
            [
             0.6666666666666666,
             "#ed7953"
            ],
            [
             0.7777777777777778,
             "#fb9f3a"
            ],
            [
             0.8888888888888888,
             "#fdca26"
            ],
            [
             1,
             "#f0f921"
            ]
           ],
           "sequentialminus": [
            [
             0,
             "#0d0887"
            ],
            [
             0.1111111111111111,
             "#46039f"
            ],
            [
             0.2222222222222222,
             "#7201a8"
            ],
            [
             0.3333333333333333,
             "#9c179e"
            ],
            [
             0.4444444444444444,
             "#bd3786"
            ],
            [
             0.5555555555555556,
             "#d8576b"
            ],
            [
             0.6666666666666666,
             "#ed7953"
            ],
            [
             0.7777777777777778,
             "#fb9f3a"
            ],
            [
             0.8888888888888888,
             "#fdca26"
            ],
            [
             1,
             "#f0f921"
            ]
           ]
          },
          "colorway": [
           "#636efa",
           "#EF553B",
           "#00cc96",
           "#ab63fa",
           "#FFA15A",
           "#19d3f3",
           "#FF6692",
           "#B6E880",
           "#FF97FF",
           "#FECB52"
          ],
          "font": {
           "color": "#2a3f5f"
          },
          "geo": {
           "bgcolor": "white",
           "lakecolor": "white",
           "landcolor": "#E5ECF6",
           "showlakes": true,
           "showland": true,
           "subunitcolor": "white"
          },
          "hoverlabel": {
           "align": "left"
          },
          "hovermode": "closest",
          "mapbox": {
           "style": "light"
          },
          "paper_bgcolor": "white",
          "plot_bgcolor": "#E5ECF6",
          "polar": {
           "angularaxis": {
            "gridcolor": "white",
            "linecolor": "white",
            "ticks": ""
           },
           "bgcolor": "#E5ECF6",
           "radialaxis": {
            "gridcolor": "white",
            "linecolor": "white",
            "ticks": ""
           }
          },
          "scene": {
           "xaxis": {
            "backgroundcolor": "#E5ECF6",
            "gridcolor": "white",
            "gridwidth": 2,
            "linecolor": "white",
            "showbackground": true,
            "ticks": "",
            "zerolinecolor": "white"
           },
           "yaxis": {
            "backgroundcolor": "#E5ECF6",
            "gridcolor": "white",
            "gridwidth": 2,
            "linecolor": "white",
            "showbackground": true,
            "ticks": "",
            "zerolinecolor": "white"
           },
           "zaxis": {
            "backgroundcolor": "#E5ECF6",
            "gridcolor": "white",
            "gridwidth": 2,
            "linecolor": "white",
            "showbackground": true,
            "ticks": "",
            "zerolinecolor": "white"
           }
          },
          "shapedefaults": {
           "line": {
            "color": "#2a3f5f"
           }
          },
          "ternary": {
           "aaxis": {
            "gridcolor": "white",
            "linecolor": "white",
            "ticks": ""
           },
           "baxis": {
            "gridcolor": "white",
            "linecolor": "white",
            "ticks": ""
           },
           "bgcolor": "#E5ECF6",
           "caxis": {
            "gridcolor": "white",
            "linecolor": "white",
            "ticks": ""
           }
          },
          "title": {
           "x": 0.05
          },
          "xaxis": {
           "automargin": true,
           "gridcolor": "white",
           "linecolor": "white",
           "ticks": "",
           "title": {
            "standoff": 15
           },
           "zerolinecolor": "white",
           "zerolinewidth": 2
          },
          "yaxis": {
           "automargin": true,
           "gridcolor": "white",
           "linecolor": "white",
           "ticks": "",
           "title": {
            "standoff": 15
           },
           "zerolinecolor": "white",
           "zerolinewidth": 2
          }
         }
        },
        "title": {
         "text": "Global Mean Temperature over years"
        },
        "xaxis": {
         "anchor": "y",
         "domain": [
          0,
          1
         ],
         "title": {
          "text": "Year"
         }
        },
        "yaxis": {
         "anchor": "x",
         "domain": [
          0,
          1
         ],
         "range": [
          -0.5,
          1.25
         ],
         "title": {
          "text": "Degrees celsius"
         }
        }
       }
      }
     },
     "metadata": {},
     "output_type": "display_data"
    }
   ],
   "source": [
    "# Creating an interactive line plot with plotly\n",
    "fig = px.line(GlobalTemp, x='Year', y='Mean', title='Global Mean Temperature over years')\n",
    "\n",
    "# Adjusting layout to make the plot area taller and set y-axis range\n",
    "fig.update_layout(\n",
    "    height=800,  # Adjust height of the entire figure\n",
    "    yaxis=dict(range=[-0.5, 1.25], title='Degrees celsius')  # Set y-axis range and title\n",
    ")\n",
    "\n",
    "# Add vertical lines\n",
    "fig.add_shape(type=\"line\", x0=1940, y0=-0.5, x1=1940, y1=1.25, line=dict(color=\"Red\", width=1, dash=\"dash\"), name=\"1940\")\n",
    "fig.add_shape(type=\"line\", x0=1980, y0=-0.5, x1=1980, y1=1.25, line=dict(color=\"Green\", width=1, dash=\"dash\"), name=\"1980\")\n",
    "\n",
    "# Update hover template\n",
    "fig.update_traces(mode='lines+markers', hovertemplate='Year: %{x}<br>Temperature: %{y}°C')\n",
    "\n",
    "fig.show()"
   ]
  },
  {
   "cell_type": "markdown",
   "metadata": {},
   "source": [
    "**Description of temperature data:**  \n",
    "We can see that the average annual world temperature has been volatile throughout the entire period.  \n",
    "We also see, that the temperature seems to have been somewhat stationary from the period 1880 to 1940 and 1940 to 1980 whereafter it been increasing slowly throughout the remaining period. The three periods are seperated in the figure by vertical dotted lines.  \n",
    "\n",
    "**Note**: It is possible to hover over the figure to highlight specific yearly observations"
   ]
  },
  {
   "cell_type": "markdown",
   "metadata": {},
   "source": [
    "#### GDP "
   ]
  },
  {
   "cell_type": "code",
   "execution_count": 21,
   "metadata": {},
   "outputs": [
    {
     "data": {
      "application/vnd.plotly.v1+json": {
       "config": {
        "plotlyServerURL": "https://plot.ly"
       },
       "data": [
        {
         "hovertemplate": "Year: %{x}<br>Temperature: %{y}°C",
         "legendgroup": "",
         "line": {
          "color": "#636efa",
          "dash": "solid"
         },
         "marker": {
          "symbol": "circle"
         },
         "mode": "lines+markers",
         "name": "",
         "orientation": "v",
         "showlegend": false,
         "type": "scatter",
         "x": [
          "1960",
          "1961",
          "1962",
          "1963",
          "1964",
          "1965",
          "1966",
          "1967",
          "1968",
          "1969",
          "1970",
          "1971",
          "1972",
          "1973",
          "1974",
          "1975",
          "1976",
          "1977",
          "1978",
          "1979",
          "1980",
          "1981",
          "1982",
          "1983",
          "1984",
          "1985",
          "1986",
          "1987",
          "1988",
          "1989",
          "1990",
          "1991",
          "1992",
          "1993",
          "1994",
          "1995",
          "1996",
          "1997",
          "1998",
          "1999",
          "2000",
          "2001",
          "2002",
          "2003",
          "2004",
          "2005",
          "2006",
          "2007",
          "2008",
          "2009",
          "2010",
          "2011",
          "2012",
          "2013",
          "2014",
          "2015",
          "2016",
          "2017",
          "2018",
          "2019",
          "2020",
          "2021",
          "2022",
          "2023"
         ],
         "xaxis": "x",
         "y": [
          10918265962035.916,
          11330203833282.875,
          11939243133605.314,
          12559478145397.666,
          13383942060792.504,
          14130424920432.734,
          14941564574955.998,
          15557762218622.252,
          16479035744545.393,
          17432951913806.617,
          18132919837914.695,
          18907001439556.965,
          19969099209988.664,
          21250667274470.81,
          21644518137331.043,
          21789950800692.965,
          22950162752510.637,
          23888075049016.668,
          24875201431284.375,
          25913470306521.65,
          26405447512716.55,
          26936752594348.96,
          27017667672121.348,
          27720880247609.52,
          29026887759048.16,
          30106081598977.883,
          31122654330255.297,
          32287869900775.047,
          33781478943684.832,
          35035086233597.582,
          36018965412718.43,
          36514450772121.4,
          37262121337902.93,
          37949171730790.43,
          39211384629028.15,
          40418697808330.29,
          41864956153669.42,
          43506495648007.766,
          44749372724681.59,
          46340093526298.445,
          48438854527878.086,
          49420951428837.4,
          50557000680031.79,
          52127099001320.195,
          54457959179311.56,
          56639914120326.94,
          59154813079229.51,
          61743089955891.65,
          63017282684022.266,
          62157297842057.73,
          64971660320224.37,
          67126755546389.53,
          68937636865008.31,
          70867685078557.16,
          73041202860769.61,
          75283270551887.25,
          77381232423345.17,
          80009142886740.66,
          82630468929771.03,
          84771247102070.56,
          82179103628835.38,
          87297706317272.06,
          89994663432855.27,
          null
         ],
         "yaxis": "y"
        }
       ],
       "layout": {
        "height": 800,
        "legend": {
         "tracegroupgap": 0
        },
        "template": {
         "data": {
          "bar": [
           {
            "error_x": {
             "color": "#2a3f5f"
            },
            "error_y": {
             "color": "#2a3f5f"
            },
            "marker": {
             "line": {
              "color": "#E5ECF6",
              "width": 0.5
             },
             "pattern": {
              "fillmode": "overlay",
              "size": 10,
              "solidity": 0.2
             }
            },
            "type": "bar"
           }
          ],
          "barpolar": [
           {
            "marker": {
             "line": {
              "color": "#E5ECF6",
              "width": 0.5
             },
             "pattern": {
              "fillmode": "overlay",
              "size": 10,
              "solidity": 0.2
             }
            },
            "type": "barpolar"
           }
          ],
          "carpet": [
           {
            "aaxis": {
             "endlinecolor": "#2a3f5f",
             "gridcolor": "white",
             "linecolor": "white",
             "minorgridcolor": "white",
             "startlinecolor": "#2a3f5f"
            },
            "baxis": {
             "endlinecolor": "#2a3f5f",
             "gridcolor": "white",
             "linecolor": "white",
             "minorgridcolor": "white",
             "startlinecolor": "#2a3f5f"
            },
            "type": "carpet"
           }
          ],
          "choropleth": [
           {
            "colorbar": {
             "outlinewidth": 0,
             "ticks": ""
            },
            "type": "choropleth"
           }
          ],
          "contour": [
           {
            "colorbar": {
             "outlinewidth": 0,
             "ticks": ""
            },
            "colorscale": [
             [
              0,
              "#0d0887"
             ],
             [
              0.1111111111111111,
              "#46039f"
             ],
             [
              0.2222222222222222,
              "#7201a8"
             ],
             [
              0.3333333333333333,
              "#9c179e"
             ],
             [
              0.4444444444444444,
              "#bd3786"
             ],
             [
              0.5555555555555556,
              "#d8576b"
             ],
             [
              0.6666666666666666,
              "#ed7953"
             ],
             [
              0.7777777777777778,
              "#fb9f3a"
             ],
             [
              0.8888888888888888,
              "#fdca26"
             ],
             [
              1,
              "#f0f921"
             ]
            ],
            "type": "contour"
           }
          ],
          "contourcarpet": [
           {
            "colorbar": {
             "outlinewidth": 0,
             "ticks": ""
            },
            "type": "contourcarpet"
           }
          ],
          "heatmap": [
           {
            "colorbar": {
             "outlinewidth": 0,
             "ticks": ""
            },
            "colorscale": [
             [
              0,
              "#0d0887"
             ],
             [
              0.1111111111111111,
              "#46039f"
             ],
             [
              0.2222222222222222,
              "#7201a8"
             ],
             [
              0.3333333333333333,
              "#9c179e"
             ],
             [
              0.4444444444444444,
              "#bd3786"
             ],
             [
              0.5555555555555556,
              "#d8576b"
             ],
             [
              0.6666666666666666,
              "#ed7953"
             ],
             [
              0.7777777777777778,
              "#fb9f3a"
             ],
             [
              0.8888888888888888,
              "#fdca26"
             ],
             [
              1,
              "#f0f921"
             ]
            ],
            "type": "heatmap"
           }
          ],
          "heatmapgl": [
           {
            "colorbar": {
             "outlinewidth": 0,
             "ticks": ""
            },
            "colorscale": [
             [
              0,
              "#0d0887"
             ],
             [
              0.1111111111111111,
              "#46039f"
             ],
             [
              0.2222222222222222,
              "#7201a8"
             ],
             [
              0.3333333333333333,
              "#9c179e"
             ],
             [
              0.4444444444444444,
              "#bd3786"
             ],
             [
              0.5555555555555556,
              "#d8576b"
             ],
             [
              0.6666666666666666,
              "#ed7953"
             ],
             [
              0.7777777777777778,
              "#fb9f3a"
             ],
             [
              0.8888888888888888,
              "#fdca26"
             ],
             [
              1,
              "#f0f921"
             ]
            ],
            "type": "heatmapgl"
           }
          ],
          "histogram": [
           {
            "marker": {
             "pattern": {
              "fillmode": "overlay",
              "size": 10,
              "solidity": 0.2
             }
            },
            "type": "histogram"
           }
          ],
          "histogram2d": [
           {
            "colorbar": {
             "outlinewidth": 0,
             "ticks": ""
            },
            "colorscale": [
             [
              0,
              "#0d0887"
             ],
             [
              0.1111111111111111,
              "#46039f"
             ],
             [
              0.2222222222222222,
              "#7201a8"
             ],
             [
              0.3333333333333333,
              "#9c179e"
             ],
             [
              0.4444444444444444,
              "#bd3786"
             ],
             [
              0.5555555555555556,
              "#d8576b"
             ],
             [
              0.6666666666666666,
              "#ed7953"
             ],
             [
              0.7777777777777778,
              "#fb9f3a"
             ],
             [
              0.8888888888888888,
              "#fdca26"
             ],
             [
              1,
              "#f0f921"
             ]
            ],
            "type": "histogram2d"
           }
          ],
          "histogram2dcontour": [
           {
            "colorbar": {
             "outlinewidth": 0,
             "ticks": ""
            },
            "colorscale": [
             [
              0,
              "#0d0887"
             ],
             [
              0.1111111111111111,
              "#46039f"
             ],
             [
              0.2222222222222222,
              "#7201a8"
             ],
             [
              0.3333333333333333,
              "#9c179e"
             ],
             [
              0.4444444444444444,
              "#bd3786"
             ],
             [
              0.5555555555555556,
              "#d8576b"
             ],
             [
              0.6666666666666666,
              "#ed7953"
             ],
             [
              0.7777777777777778,
              "#fb9f3a"
             ],
             [
              0.8888888888888888,
              "#fdca26"
             ],
             [
              1,
              "#f0f921"
             ]
            ],
            "type": "histogram2dcontour"
           }
          ],
          "mesh3d": [
           {
            "colorbar": {
             "outlinewidth": 0,
             "ticks": ""
            },
            "type": "mesh3d"
           }
          ],
          "parcoords": [
           {
            "line": {
             "colorbar": {
              "outlinewidth": 0,
              "ticks": ""
             }
            },
            "type": "parcoords"
           }
          ],
          "pie": [
           {
            "automargin": true,
            "type": "pie"
           }
          ],
          "scatter": [
           {
            "fillpattern": {
             "fillmode": "overlay",
             "size": 10,
             "solidity": 0.2
            },
            "type": "scatter"
           }
          ],
          "scatter3d": [
           {
            "line": {
             "colorbar": {
              "outlinewidth": 0,
              "ticks": ""
             }
            },
            "marker": {
             "colorbar": {
              "outlinewidth": 0,
              "ticks": ""
             }
            },
            "type": "scatter3d"
           }
          ],
          "scattercarpet": [
           {
            "marker": {
             "colorbar": {
              "outlinewidth": 0,
              "ticks": ""
             }
            },
            "type": "scattercarpet"
           }
          ],
          "scattergeo": [
           {
            "marker": {
             "colorbar": {
              "outlinewidth": 0,
              "ticks": ""
             }
            },
            "type": "scattergeo"
           }
          ],
          "scattergl": [
           {
            "marker": {
             "colorbar": {
              "outlinewidth": 0,
              "ticks": ""
             }
            },
            "type": "scattergl"
           }
          ],
          "scattermapbox": [
           {
            "marker": {
             "colorbar": {
              "outlinewidth": 0,
              "ticks": ""
             }
            },
            "type": "scattermapbox"
           }
          ],
          "scatterpolar": [
           {
            "marker": {
             "colorbar": {
              "outlinewidth": 0,
              "ticks": ""
             }
            },
            "type": "scatterpolar"
           }
          ],
          "scatterpolargl": [
           {
            "marker": {
             "colorbar": {
              "outlinewidth": 0,
              "ticks": ""
             }
            },
            "type": "scatterpolargl"
           }
          ],
          "scatterternary": [
           {
            "marker": {
             "colorbar": {
              "outlinewidth": 0,
              "ticks": ""
             }
            },
            "type": "scatterternary"
           }
          ],
          "surface": [
           {
            "colorbar": {
             "outlinewidth": 0,
             "ticks": ""
            },
            "colorscale": [
             [
              0,
              "#0d0887"
             ],
             [
              0.1111111111111111,
              "#46039f"
             ],
             [
              0.2222222222222222,
              "#7201a8"
             ],
             [
              0.3333333333333333,
              "#9c179e"
             ],
             [
              0.4444444444444444,
              "#bd3786"
             ],
             [
              0.5555555555555556,
              "#d8576b"
             ],
             [
              0.6666666666666666,
              "#ed7953"
             ],
             [
              0.7777777777777778,
              "#fb9f3a"
             ],
             [
              0.8888888888888888,
              "#fdca26"
             ],
             [
              1,
              "#f0f921"
             ]
            ],
            "type": "surface"
           }
          ],
          "table": [
           {
            "cells": {
             "fill": {
              "color": "#EBF0F8"
             },
             "line": {
              "color": "white"
             }
            },
            "header": {
             "fill": {
              "color": "#C8D4E3"
             },
             "line": {
              "color": "white"
             }
            },
            "type": "table"
           }
          ]
         },
         "layout": {
          "annotationdefaults": {
           "arrowcolor": "#2a3f5f",
           "arrowhead": 0,
           "arrowwidth": 1
          },
          "autotypenumbers": "strict",
          "coloraxis": {
           "colorbar": {
            "outlinewidth": 0,
            "ticks": ""
           }
          },
          "colorscale": {
           "diverging": [
            [
             0,
             "#8e0152"
            ],
            [
             0.1,
             "#c51b7d"
            ],
            [
             0.2,
             "#de77ae"
            ],
            [
             0.3,
             "#f1b6da"
            ],
            [
             0.4,
             "#fde0ef"
            ],
            [
             0.5,
             "#f7f7f7"
            ],
            [
             0.6,
             "#e6f5d0"
            ],
            [
             0.7,
             "#b8e186"
            ],
            [
             0.8,
             "#7fbc41"
            ],
            [
             0.9,
             "#4d9221"
            ],
            [
             1,
             "#276419"
            ]
           ],
           "sequential": [
            [
             0,
             "#0d0887"
            ],
            [
             0.1111111111111111,
             "#46039f"
            ],
            [
             0.2222222222222222,
             "#7201a8"
            ],
            [
             0.3333333333333333,
             "#9c179e"
            ],
            [
             0.4444444444444444,
             "#bd3786"
            ],
            [
             0.5555555555555556,
             "#d8576b"
            ],
            [
             0.6666666666666666,
             "#ed7953"
            ],
            [
             0.7777777777777778,
             "#fb9f3a"
            ],
            [
             0.8888888888888888,
             "#fdca26"
            ],
            [
             1,
             "#f0f921"
            ]
           ],
           "sequentialminus": [
            [
             0,
             "#0d0887"
            ],
            [
             0.1111111111111111,
             "#46039f"
            ],
            [
             0.2222222222222222,
             "#7201a8"
            ],
            [
             0.3333333333333333,
             "#9c179e"
            ],
            [
             0.4444444444444444,
             "#bd3786"
            ],
            [
             0.5555555555555556,
             "#d8576b"
            ],
            [
             0.6666666666666666,
             "#ed7953"
            ],
            [
             0.7777777777777778,
             "#fb9f3a"
            ],
            [
             0.8888888888888888,
             "#fdca26"
            ],
            [
             1,
             "#f0f921"
            ]
           ]
          },
          "colorway": [
           "#636efa",
           "#EF553B",
           "#00cc96",
           "#ab63fa",
           "#FFA15A",
           "#19d3f3",
           "#FF6692",
           "#B6E880",
           "#FF97FF",
           "#FECB52"
          ],
          "font": {
           "color": "#2a3f5f"
          },
          "geo": {
           "bgcolor": "white",
           "lakecolor": "white",
           "landcolor": "#E5ECF6",
           "showlakes": true,
           "showland": true,
           "subunitcolor": "white"
          },
          "hoverlabel": {
           "align": "left"
          },
          "hovermode": "closest",
          "mapbox": {
           "style": "light"
          },
          "paper_bgcolor": "white",
          "plot_bgcolor": "#E5ECF6",
          "polar": {
           "angularaxis": {
            "gridcolor": "white",
            "linecolor": "white",
            "ticks": ""
           },
           "bgcolor": "#E5ECF6",
           "radialaxis": {
            "gridcolor": "white",
            "linecolor": "white",
            "ticks": ""
           }
          },
          "scene": {
           "xaxis": {
            "backgroundcolor": "#E5ECF6",
            "gridcolor": "white",
            "gridwidth": 2,
            "linecolor": "white",
            "showbackground": true,
            "ticks": "",
            "zerolinecolor": "white"
           },
           "yaxis": {
            "backgroundcolor": "#E5ECF6",
            "gridcolor": "white",
            "gridwidth": 2,
            "linecolor": "white",
            "showbackground": true,
            "ticks": "",
            "zerolinecolor": "white"
           },
           "zaxis": {
            "backgroundcolor": "#E5ECF6",
            "gridcolor": "white",
            "gridwidth": 2,
            "linecolor": "white",
            "showbackground": true,
            "ticks": "",
            "zerolinecolor": "white"
           }
          },
          "shapedefaults": {
           "line": {
            "color": "#2a3f5f"
           }
          },
          "ternary": {
           "aaxis": {
            "gridcolor": "white",
            "linecolor": "white",
            "ticks": ""
           },
           "baxis": {
            "gridcolor": "white",
            "linecolor": "white",
            "ticks": ""
           },
           "bgcolor": "#E5ECF6",
           "caxis": {
            "gridcolor": "white",
            "linecolor": "white",
            "ticks": ""
           }
          },
          "title": {
           "x": 0.05
          },
          "xaxis": {
           "automargin": true,
           "gridcolor": "white",
           "linecolor": "white",
           "ticks": "",
           "title": {
            "standoff": 15
           },
           "zerolinecolor": "white",
           "zerolinewidth": 2
          },
          "yaxis": {
           "automargin": true,
           "gridcolor": "white",
           "linecolor": "white",
           "ticks": "",
           "title": {
            "standoff": 15
           },
           "zerolinecolor": "white",
           "zerolinewidth": 2
          }
         }
        },
        "title": {
         "text": "World GDP over years"
        },
        "xaxis": {
         "anchor": "y",
         "domain": [
          0,
          1
         ],
         "title": {
          "text": "Year"
         }
        },
        "yaxis": {
         "anchor": "x",
         "domain": [
          0,
          1
         ],
         "title": {
          "text": "Trillion 2015 USD"
         }
        }
       }
      }
     },
     "metadata": {},
     "output_type": "display_data"
    }
   ],
   "source": [
    "# Creating an interactive line plot with plotly\n",
    "fig = px.line(GDP, x='Year', y='GDP', title='World GDP over years')\n",
    "\n",
    "# Adjusting layout to make the plot area taller and set y-axis range\n",
    "fig.update_layout(\n",
    "    height=800,  # Adjust height of the entire figure\n",
    "    yaxis=dict(title='Trillion 2015 USD')  # Set y-axis title\n",
    ")\n",
    "\n",
    "\n",
    "# Update hover template\n",
    "fig.update_traces(mode='lines+markers', hovertemplate='Year: %{x}<br>Temperature: %{y}°C')\n",
    "\n",
    "fig.show()"
   ]
  },
  {
   "cell_type": "markdown",
   "metadata": {},
   "source": [
    "**Description of GDP data**  \n",
    "We note that world GDP has been increasing in an almost linear fashion throughout the entire period.  \n",
    "Also note that GDP takes a dive in both 2009 (financial crisis) and 2020 (Covid).\n",
    "\n",
    "**Note**: It is possible to hover over the figure to highlight specific yearly observations"
   ]
  },
  {
   "cell_type": "markdown",
   "metadata": {},
   "source": [
    "**Interactive plot** :"
   ]
  },
  {
   "cell_type": "markdown",
   "metadata": {},
   "source": [
    "Explain what you see when moving elements of the interactive plot around. "
   ]
  },
  {
   "cell_type": "markdown",
   "metadata": {},
   "source": [
    "# Merge data sets"
   ]
  },
  {
   "cell_type": "code",
   "execution_count": null,
   "metadata": {},
   "outputs": [
    {
     "data": {
      "text/html": [
       "<div>\n",
       "<style scoped>\n",
       "    .dataframe tbody tr th:only-of-type {\n",
       "        vertical-align: middle;\n",
       "    }\n",
       "\n",
       "    .dataframe tbody tr th {\n",
       "        vertical-align: top;\n",
       "    }\n",
       "\n",
       "    .dataframe thead th {\n",
       "        text-align: right;\n",
       "    }\n",
       "</style>\n",
       "<table border=\"1\" class=\"dataframe\">\n",
       "  <thead>\n",
       "    <tr style=\"text-align: right;\">\n",
       "      <th></th>\n",
       "      <th>Year</th>\n",
       "      <th>Jan</th>\n",
       "      <th>Feb</th>\n",
       "      <th>Mar</th>\n",
       "      <th>Apr</th>\n",
       "      <th>May</th>\n",
       "      <th>Jun</th>\n",
       "      <th>Jul</th>\n",
       "      <th>Aug</th>\n",
       "      <th>Sep</th>\n",
       "      <th>Oct</th>\n",
       "      <th>Nov</th>\n",
       "      <th>Dec</th>\n",
       "      <th>Mean</th>\n",
       "      <th>GDP</th>\n",
       "    </tr>\n",
       "  </thead>\n",
       "  <tbody>\n",
       "    <tr>\n",
       "      <th>0</th>\n",
       "      <td>1960</td>\n",
       "      <td>0.00</td>\n",
       "      <td>0.13</td>\n",
       "      <td>-0.35</td>\n",
       "      <td>-0.15</td>\n",
       "      <td>-0.08</td>\n",
       "      <td>-0.04</td>\n",
       "      <td>-0.04</td>\n",
       "      <td>0.02</td>\n",
       "      <td>0.07</td>\n",
       "      <td>0.06</td>\n",
       "      <td>-0.11</td>\n",
       "      <td>0.19</td>\n",
       "      <td>-0.025000</td>\n",
       "      <td>1.091827e+13</td>\n",
       "    </tr>\n",
       "    <tr>\n",
       "      <th>1</th>\n",
       "      <td>1961</td>\n",
       "      <td>0.07</td>\n",
       "      <td>0.19</td>\n",
       "      <td>0.09</td>\n",
       "      <td>0.13</td>\n",
       "      <td>0.12</td>\n",
       "      <td>0.11</td>\n",
       "      <td>0.01</td>\n",
       "      <td>0.01</td>\n",
       "      <td>0.08</td>\n",
       "      <td>0.00</td>\n",
       "      <td>0.03</td>\n",
       "      <td>-0.16</td>\n",
       "      <td>0.056667</td>\n",
       "      <td>1.133020e+13</td>\n",
       "    </tr>\n",
       "    <tr>\n",
       "      <th>2</th>\n",
       "      <td>1962</td>\n",
       "      <td>0.05</td>\n",
       "      <td>0.15</td>\n",
       "      <td>0.10</td>\n",
       "      <td>0.05</td>\n",
       "      <td>-0.06</td>\n",
       "      <td>0.03</td>\n",
       "      <td>0.02</td>\n",
       "      <td>-0.01</td>\n",
       "      <td>0.00</td>\n",
       "      <td>0.01</td>\n",
       "      <td>0.06</td>\n",
       "      <td>-0.03</td>\n",
       "      <td>0.030833</td>\n",
       "      <td>1.193924e+13</td>\n",
       "    </tr>\n",
       "    <tr>\n",
       "      <th>3</th>\n",
       "      <td>1963</td>\n",
       "      <td>-0.03</td>\n",
       "      <td>0.18</td>\n",
       "      <td>-0.14</td>\n",
       "      <td>-0.07</td>\n",
       "      <td>-0.06</td>\n",
       "      <td>0.05</td>\n",
       "      <td>0.06</td>\n",
       "      <td>0.23</td>\n",
       "      <td>0.18</td>\n",
       "      <td>0.14</td>\n",
       "      <td>0.15</td>\n",
       "      <td>-0.03</td>\n",
       "      <td>0.055000</td>\n",
       "      <td>1.255948e+13</td>\n",
       "    </tr>\n",
       "    <tr>\n",
       "      <th>4</th>\n",
       "      <td>1964</td>\n",
       "      <td>-0.09</td>\n",
       "      <td>-0.10</td>\n",
       "      <td>-0.21</td>\n",
       "      <td>-0.32</td>\n",
       "      <td>-0.25</td>\n",
       "      <td>-0.04</td>\n",
       "      <td>-0.04</td>\n",
       "      <td>-0.22</td>\n",
       "      <td>-0.29</td>\n",
       "      <td>-0.31</td>\n",
       "      <td>-0.21</td>\n",
       "      <td>-0.30</td>\n",
       "      <td>-0.198333</td>\n",
       "      <td>1.338394e+13</td>\n",
       "    </tr>\n",
       "  </tbody>\n",
       "</table>\n",
       "</div>"
      ],
      "text/plain": [
       "   Year   Jan   Feb   Mar   Apr   May   Jun   Jul   Aug   Sep   Oct   Nov  \\\n",
       "0  1960  0.00  0.13 -0.35 -0.15 -0.08 -0.04 -0.04  0.02  0.07  0.06 -0.11   \n",
       "1  1961  0.07  0.19  0.09  0.13  0.12  0.11  0.01  0.01  0.08  0.00  0.03   \n",
       "2  1962  0.05  0.15  0.10  0.05 -0.06  0.03  0.02 -0.01  0.00  0.01  0.06   \n",
       "3  1963 -0.03  0.18 -0.14 -0.07 -0.06  0.05  0.06  0.23  0.18  0.14  0.15   \n",
       "4  1964 -0.09 -0.10 -0.21 -0.32 -0.25 -0.04 -0.04 -0.22 -0.29 -0.31 -0.21   \n",
       "\n",
       "    Dec      Mean           GDP  \n",
       "0  0.19 -0.025000  1.091827e+13  \n",
       "1 -0.16  0.056667  1.133020e+13  \n",
       "2 -0.03  0.030833  1.193924e+13  \n",
       "3 -0.03  0.055000  1.255948e+13  \n",
       "4 -0.30 -0.198333  1.338394e+13  "
      ]
     },
     "execution_count": 153,
     "metadata": {},
     "output_type": "execute_result"
    }
   ],
   "source": [
    "\n",
    "GDP['Year'] = GDP['Year'].astype(int)\n",
    "GlobalTemp['Year'] = GlobalTemp['Year'].astype(int)\n",
    "MERGED = pd.merge(GlobalTemp,GDP,on='Year', how='inner')\n",
    "MERGED.head()"
   ]
  },
  {
   "cell_type": "markdown",
   "metadata": {},
   "source": [
    "# Analysis"
   ]
  },
  {
   "cell_type": "markdown",
   "metadata": {},
   "source": [
    "To get a quick overview of the data, we show some **summary statistics** on a meaningful aggregation. "
   ]
  },
  {
   "cell_type": "markdown",
   "metadata": {},
   "source": [
    "MAKE FURTHER ANALYSIS. EXPLAIN THE CODE BRIEFLY AND SUMMARIZE THE RESULTS."
   ]
  },
  {
   "cell_type": "markdown",
   "metadata": {},
   "source": [
    "# Conclusion"
   ]
  },
  {
   "cell_type": "markdown",
   "metadata": {},
   "source": [
    "ADD CONCISE CONLUSION."
   ]
  }
 ],
 "metadata": {
  "kernelspec": {
   "display_name": "base",
   "language": "python",
   "name": "python3"
  },
  "language_info": {
   "codemirror_mode": {
    "name": "ipython",
    "version": 3
   },
   "file_extension": ".py",
   "mimetype": "text/x-python",
   "name": "python",
   "nbconvert_exporter": "python",
   "pygments_lexer": "ipython3",
   "version": "3.11.5"
  },
  "toc-autonumbering": true,
  "vscode": {
   "interpreter": {
    "hash": "47ef90cdf3004d3f859f1fb202523c65c07ba7c22eefd261b181f4744e2d0403"
   }
  }
 },
 "nbformat": 4,
 "nbformat_minor": 4
}
