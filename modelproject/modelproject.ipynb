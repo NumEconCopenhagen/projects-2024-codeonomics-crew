{
 "cells": [
  {
   "cell_type": "markdown",
   "metadata": {},
   "source": [
    "# the Solow model with fixed and exhaustible resources"
   ]
  },
  {
   "cell_type": "markdown",
   "metadata": {},
   "source": [
    "Imports and set magics:"
   ]
  },
  {
   "cell_type": "code",
   "execution_count": 45,
   "metadata": {},
   "outputs": [
    {
     "name": "stdout",
     "output_type": "stream",
     "text": [
      "The autoreload extension is already loaded. To reload it, use:\n",
      "  %reload_ext autoreload\n"
     ]
    }
   ],
   "source": [
    "import numpy as np\n",
    "from scipy import optimize\n",
    "import sympy as sm\n",
    "\n",
    "# autoreload modules when code is run\n",
    "%load_ext autoreload\n",
    "%autoreload 2\n",
    "\n",
    "# local modules\n",
    "from modelproject import Solow\n",
    "from modelproject import analytical"
   ]
  },
  {
   "cell_type": "markdown",
   "metadata": {},
   "source": [
    "# Introduction\n",
    "\n",
    "In this project we first start out by considering an extended Solow model with a fixed input.  \n",
    "An example of a fixed input could be land\n",
    "\n",
    "Later we extend the model to include an exhaistible resource as well."
   ]
  },
  {
   "cell_type": "markdown",
   "metadata": {},
   "source": [
    "## The standard Solow model"
   ]
  },
  {
   "cell_type": "markdown",
   "metadata": {},
   "source": [
    "To remind the reader we here present relevant equations for the standard Solow model, which will later be used as a baseline to compare with the extended Solow model.\n",
    "\n",
    "The production function is a Cobb-Douglas:\n",
    "$$Y_t=K_t^\\alpha (A_tL_t)^{1-\\alpha},\\quad \\alpha>0$$\n",
    "The transition equation for capital-output is given by:\n",
    "$$z_{t+1}=\\frac{(s_Y+(1-\\delta)z_t)^{1-\\alpha}}{((1+g)(1+n))^{1-\\alpha}}z_t^\\alpha$$\n",
    "And the steady state for the capital-output ratio is:\n",
    "$$z^\\star=\\frac{s_Y}{((1+g)(1+n))^{\\frac{\\beta}{1-\\alpha}}-(1-\\delta)}$$"
   ]
  },
  {
   "cell_type": "markdown",
   "metadata": {},
   "source": [
    "# The Solow Model with land."
   ]
  },
  {
   "cell_type": "markdown",
   "metadata": {},
   "source": [
    "We first consider the Solow model with land.  \n",
    "The model can be descripted by the following equations:\n",
    "\n",
    "$$Y_t=K_t^\\alpha  X^\\kappa (A_tL_t)^{1-\\alpha-\\kappa}, \\quad \\alpha,\\kappa>0$$\n",
    "$$K_{t+1}=s_YY_t+(1-\\delta)K_t$$\n",
    "$$L_{t+1}=(1+n)L_t$$\n",
    "$$A_{t+1}=(1+g)A_t$$\n",
    "\n",
    "Here the variables are:\n",
    "- $Y_t$: Production/Output\n",
    "- $K_t$: Capital\n",
    "- $X$: Land\n",
    "- $L_t$: Labor\n",
    "- $A_t$: Technology growth\n",
    "\n",
    "\n",
    "$s_Y$ is the savings rate of capital, while n and g are the growth of labor and technology respectively.  "
   ]
  },
  {
   "cell_type": "markdown",
   "metadata": {},
   "source": [
    "## Analytical solution"
   ]
  },
  {
   "cell_type": "markdown",
   "metadata": {},
   "source": [
    "We evalute the steady state based on the capital-output ration:\n",
    "$$z_t\\equiv\\frac{K_t}{Y_t}=\\frac{k_t}{y_t}$$\n",
    "We start from the next period and insert the prodution function:\n",
    "$$z_{t+1}=\\frac{K_{t+1}}{Y_{t+1}}=\\frac{K_{t+1}}{K_{t+1}^\\alpha X^\\kappa(A_{t+1}L_{t+1})^{1-\\alpha-\\kappa}}=\\frac{K_{t+1}^{1-\\alpha}}{X^\\kappa(A_{t+1}L_{t+1})^{1-\\alpha-\\kappa}}$$\n",
    "We insert the capital accumulation equation:\n",
    "$$z_{t+1}=\\frac{(s_YY_t+(1-\\delta)K_t)^{1-\\alpha}}{X^\\kappa(A_{t+1}L_{t+1})}=\\frac{(s+z_t(1-\\delta))^{1-\\alpha}}{X^\\kappa(A_{t+1}L_{t+1})^{1-\\alpha-\\kappa}}Y_t^{1-\\alpha}$$\n",
    "$$=\\frac{(s+z_t(1-\\delta))^{1-\\alpha}}{((1+g)(1+n))^{1-\\alpha-\\kappa}X^\\kappa(A_{t}L_{t})^{1-\\alpha-\\kappa}}Y_t^{1-\\alpha}$$\n",
    "Trick: We now multiply and divide by $K_t^\\alpha$\n",
    "$$=\\frac{(s+z_t(1-\\delta))^{1-\\alpha}}{((1+g)(1+n))^{1-\\alpha-\\kappa}X^\\kappa(A_{t}L_{t})^{1-\\alpha-\\kappa}}Y_t^{1-\\alpha}\\frac{K_t^\\alpha}{K_t^\\alpha}$$\n",
    "$$=\\frac{(s+z_t(1-\\delta))^{1-\\alpha}}{((1+g)(1+n))^{1-\\alpha-\\kappa}}\\frac{Y_t}{Y_t}z_t^\\alpha$$\n",
    "$$=\\frac{(s+z_t(1-\\delta))^{1-\\alpha}}{((1+g)(1+n))^{1-\\alpha-\\kappa}}z_t^\\alpha$$\n",
    "\n",
    "In steady state we have that $z_{t+1}=z_t=z$ and we can thus use sympy to solve for z"
   ]
  },
  {
   "cell_type": "code",
   "execution_count": 46,
   "metadata": {},
   "outputs": [
    {
     "name": "stdout",
     "output_type": "stream",
     "text": [
      "The solution to the model with extension 1 is: z = s_Y/(delta - 1 + ((g*n + g + n + 1)**(-alpha - kappa + 1))**(-1/(alpha - 1)))\n"
     ]
    },
    {
     "data": {
      "text/latex": [
       "$\\displaystyle z = \\frac{s_{Y}}{\\delta - 1 + \\left(\\left(g n + g + n + 1\\right)^{- \\alpha - \\kappa + 1}\\right)^{- \\frac{1}{\\alpha - 1}}}$"
      ],
      "text/plain": [
       "Eq(z, s_Y/(delta - 1 + ((g*n + g + n + 1)**(-alpha - kappa + 1))**(-1/(alpha - 1))))"
      ]
     },
     "metadata": {},
     "output_type": "display_data"
    }
   ],
   "source": [
    "analytical_ext1 = analytical(ext1 = True, ext2 = False, do_print = True)"
   ]
  },
  {
   "cell_type": "markdown",
   "metadata": {},
   "source": [
    "We can also solve for the standard model using sympy:"
   ]
  },
  {
   "cell_type": "code",
   "execution_count": 47,
   "metadata": {},
   "outputs": [
    {
     "name": "stdout",
     "output_type": "stream",
     "text": [
      "The solution to the model without any extensions is: z = s_Y/(delta - 1 + ((g*n + g + n + 1)**(1 - alpha))**(-1/(alpha - 1)))\n"
     ]
    },
    {
     "data": {
      "text/latex": [
       "$\\displaystyle z = \\frac{s_{Y}}{\\delta - 1 + \\left(\\left(g n + g + n + 1\\right)^{1 - \\alpha}\\right)^{- \\frac{1}{\\alpha - 1}}}$"
      ],
      "text/plain": [
       "Eq(z, s_Y/(delta - 1 + ((g*n + g + n + 1)**(1 - alpha))**(-1/(alpha - 1))))"
      ]
     },
     "metadata": {},
     "output_type": "display_data"
    }
   ],
   "source": [
    "analytical_standard = analytical(ext1 = False, ext2 = False, do_print = True)"
   ]
  },
  {
   "cell_type": "markdown",
   "metadata": {},
   "source": [
    "## Numerical solution"
   ]
  },
  {
   "cell_type": "markdown",
   "metadata": {},
   "source": [
    "We now want to numerically solve for when the steady state is reached, i.e. when the following holds:\n",
    "$$z_{t+1}-z_t=\\frac{(s+z_t(1-\\delta))^{1-\\alpha}}{((1+g)(1+n))^{1-\\alpha-\\kappa}}z_t^\\alpha-z_t=0$$"
   ]
  },
  {
   "cell_type": "code",
   "execution_count": 48,
   "metadata": {},
   "outputs": [
    {
     "name": "stdout",
     "output_type": "stream",
     "text": [
      "The analytical steady state is: z = 2.6856868721437137\n",
      "The numerical steady state using bisect\n",
      "      converged: True\n",
      "           flag: converged\n",
      " function_calls: 48\n",
      "     iterations: 46\n",
      "           root: 2.6856868721433402\n",
      "The numerical steady state using brentq\n",
      "      converged: True\n",
      "           flag: converged\n",
      " function_calls: 8\n",
      "     iterations: 7\n",
      "           root: 2.685686872143712\n"
     ]
    }
   ],
   "source": [
    "model = Solow()     # Load in the Solow class\n",
    "model.setup()    # Initialize the model\n",
    "\n",
    "# Analytical solution for the model with land\n",
    "z_sol_analytical_land = model.evaluate_ss(analytical_ext1, ext1 = True, ext2 = False, do_print = True)\n",
    "\n",
    "# Numerical solution for the model with land\n",
    "z_sol_bisect_land = model.solve_ss(method = 'bisect', ext1 = True, ext2 = False, do_print = True).root\n",
    "z_sol_brentq_land = model.solve_ss(method = 'brentq', ext1 = True, ext2 = False, do_print = True).root\n",
    "\n"
   ]
  },
  {
   "cell_type": "markdown",
   "metadata": {},
   "source": [
    "We see that both methods, bisect and brentq, both converge close to the analytical solution. Using numpy we can set a tolerance parameter to check if we accept the precision:"
   ]
  },
  {
   "cell_type": "code",
   "execution_count": 49,
   "metadata": {},
   "outputs": [
    {
     "name": "stdout",
     "output_type": "stream",
     "text": [
      "Is equal to analytical Steady State: True\n",
      "Is equal to analytical Steady State: True\n"
     ]
    }
   ],
   "source": [
    "print(f'Is equal to analytical Steady State: {np.isclose(z_sol_bisect_land, z_sol_analytical_land, rtol=1e-5)}')\n",
    "print(f'Is equal to analytical Steady State: {np.isclose(z_sol_brentq_land, z_sol_analytical_land, rtol=1e-5)}')"
   ]
  },
  {
   "cell_type": "markdown",
   "metadata": {},
   "source": [
    "We can also check the speed of convergence for the two types of solvers:"
   ]
  },
  {
   "cell_type": "code",
   "execution_count": 50,
   "metadata": {},
   "outputs": [],
   "source": [
    "# print('bisect')\n",
    "# %timeit z_sol_bisect_land = model.solve_ss(method='bisect', ext1 = True, ext2 = False).root\n",
    "# print('brentq')\n",
    "# %timeit z_sol_brentq_land = model.solve_ss(method='brentq', ext1 = True, ext2 = False).root"
   ]
  },
  {
   "cell_type": "markdown",
   "metadata": {},
   "source": [
    "So we see, that brentq is a lot quicker than bisect with a lower standard error as well."
   ]
  },
  {
   "cell_type": "markdown",
   "metadata": {},
   "source": [
    "# The Solow model with land and oil"
   ]
  },
  {
   "cell_type": "markdown",
   "metadata": {},
   "source": [
    "We now extend the Solow model further by also including an exhaustible resource such as oil.\n",
    "$$Y_t = K_t^\\alpha(A_tL_t)^{1-\\alpha-\\kappa-\\varepsilon}X^\\kappa E_t^\\varepsilon,\\quad \\alpha,\\kappa,\\varepsilon>0$$\n",
    "$$K_{t+1}=s_YY_t+(1-\\delta)K_t$$\n",
    "$$L_{t+1}=(1+n)L_t$$\n",
    "$$A_{t+1}=(1+g)A_t$$\n",
    "$$E_t=s_E R_t$$\n",
    "$$R_{t+1}=R_t-E_t$$\n",
    "\n",
    "Here $R_t$ is the stock of oil, while $E_t$ is the usage of oil.  \n",
    "In every period, the economy uses a share $s_E$ of the stock of oil.  \n",
    "The stock of oil does not increase (e.g. no new deposits of oil are found)\n"
   ]
  },
  {
   "cell_type": "markdown",
   "metadata": {},
   "source": [
    "## Analytical solution "
   ]
  },
  {
   "cell_type": "markdown",
   "metadata": {},
   "source": [
    "The derivation is very similar to above:\n",
    "$$z_{t+1}=\\frac{K_{t+1}}{Y_{t+1}}=\\frac{s_Y Y_t+(1-\\delta)K_t}{K_{t+1}^\\alpha(A_{t+1}L_{t+1})^\\beta X^\\kappa E_{t+1}^\\varepsilon}$$\n",
    "We use that:\n",
    "$$E_{t+1}=s_ER_{t+1}=s_E R_t(1-s_E)$$\n",
    "Insert this, the producction function and capital accumulation:\n",
    "$$z_{t+1}=\\frac{\\left(s_Y Y_t+K_t(1-\\delta)\\right)^{1-\\alpha}}{\\left((1+g)(1+n)\\right)^\\beta\\left(A_tL_t\\right)^\\beta X^\\kappa(s_E R_t(1-s_E))^\\varepsilon}$$\n",
    "$$=\\frac{(\\left(s_Y+z_t(1-\\delta\\right)^{1-\\alpha})Y_t^{1-\\alpha}}{\\left((1+g)(1+n)\\right)^\\beta(1-s_E)^\\varepsilon(A_tL_t)^\\beta X^\\kappa E_t^\\varepsilon}\\cdot\\frac{K_t^\\alpha}{K_t^\\alpha}$$\n",
    "$$=\\frac{(s_Y+z_t(1-\\delta)^{1-\\alpha})}{((1+g)(1+n))^\\beta(1-s_E)^\\varepsilon}z_t^\\alpha$$\n"
   ]
  },
  {
   "cell_type": "markdown",
   "metadata": {},
   "source": [
    "Again, we can solve this for steady state using sympy:"
   ]
  },
  {
   "cell_type": "code",
   "execution_count": 51,
   "metadata": {},
   "outputs": [
    {
     "name": "stdout",
     "output_type": "stream",
     "text": [
      "The solution to the model with extension 2 is: z = s_Y/(delta - 1 + ((1 - s_E)**epsilon*(g*n + g + n + 1)**(-alpha - epsilon - kappa + 1))**(-1/(alpha - 1)))\n"
     ]
    },
    {
     "data": {
      "text/latex": [
       "$\\displaystyle z = \\frac{s_{Y}}{\\delta - 1 + \\left(\\left(1 - s_{E}\\right)^{\\epsilon} \\left(g n + g + n + 1\\right)^{- \\alpha - \\epsilon - \\kappa + 1}\\right)^{- \\frac{1}{\\alpha - 1}}}$"
      ],
      "text/plain": [
       "Eq(z, s_Y/(delta - 1 + ((1 - s_E)**epsilon*(g*n + g + n + 1)**(-alpha - epsilon - kappa + 1))**(-1/(alpha - 1))))"
      ]
     },
     "metadata": {},
     "output_type": "display_data"
    }
   ],
   "source": [
    "analytical_ext2 = analytical(ext1 = False, ext2 = True, do_print = True)"
   ]
  },
  {
   "cell_type": "markdown",
   "metadata": {},
   "source": [
    "## Numerical solution\n",
    "The numerical solution here will closely follow the numerical analyzis above and thus few comments will be given.  \n",
    "Instead we will compare all the different results in the next section 'Comparisons'"
   ]
  },
  {
   "cell_type": "markdown",
   "metadata": {},
   "source": [
    "Again it needs to hold that:\n",
    "$$z_{t+1}-z_t=\\frac{(s_Y+z_t(1-\\delta)^{1-\\alpha})}{((1+g)(1+n))^\\beta(1-s_E)^\\varepsilon}z_t^\\alpha-z_t=0$$"
   ]
  },
  {
   "cell_type": "code",
   "execution_count": 52,
   "metadata": {},
   "outputs": [
    {
     "name": "stdout",
     "output_type": "stream",
     "text": [
      "The analytical steady state is: z = 4.09490565332236\n",
      "The numerical steady state using bisect\n",
      "      converged: True\n",
      "           flag: converged\n",
      " function_calls: 48\n",
      "     iterations: 46\n",
      "           root: 4.094905653321379\n",
      "The numerical steady state using brentq\n",
      "      converged: True\n",
      "           flag: converged\n",
      " function_calls: 8\n",
      "     iterations: 7\n",
      "           root: 4.094905653322368\n",
      "Is equal to analytical Steady State: True\n",
      "Is equal to analytical Steady State: True\n"
     ]
    }
   ],
   "source": [
    "model = Solow()     # Load in the Solow class\n",
    "model.setup()    # Initialize the model\n",
    "\n",
    "# Analytical solution for the model with land and oil\n",
    "z_sol_analytical_oil = model.evaluate_ss(analytical_ext2, ext1 = False, ext2 = True, do_print = True)\n",
    "\n",
    "# Numerical solution for the model with land and oil\n",
    "z_sol_bisect_oil = model.solve_ss(method = 'bisect', ext1 = False, ext2 = True, do_print = True).root\n",
    "z_sol_brentq_oil = model.solve_ss(method = 'brentq', ext1 = False, ext2 = True, do_print = True).root\n",
    "\n",
    "\n",
    "# Check tolerance\n",
    "print(f'Is equal to analytical Steady State: {np.isclose(z_sol_bisect_land, z_sol_analytical_land, rtol=1e-5)}')\n",
    "print(f'Is equal to analytical Steady State: {np.isclose(z_sol_brentq_land, z_sol_analytical_land, rtol=1e-5)}')"
   ]
  },
  {
   "cell_type": "markdown",
   "metadata": {},
   "source": [
    "Again we see that both methods converge.  \n",
    "We again check speed:"
   ]
  },
  {
   "cell_type": "code",
   "execution_count": 53,
   "metadata": {},
   "outputs": [],
   "source": [
    "# print('bisect')\n",
    "# %timeit z_sol_bisect_oil = model.solve_ss(method='bisect', ext1 = False, ext2 = True).root\n",
    "# print('brentq')\n",
    "# %timeit z_sol_brentq_oil = model.solve_ss(method='brentq', ext1 = False, ext2 = True).root"
   ]
  },
  {
   "cell_type": "markdown",
   "metadata": {},
   "source": [
    "We again see, that it is brentq that performs best."
   ]
  },
  {
   "cell_type": "markdown",
   "metadata": {},
   "source": [
    "# Comparisons"
   ]
  },
  {
   "cell_type": "markdown",
   "metadata": {},
   "source": [
    "Make detailed vizualizations of how your model changes with parameter values. \n",
    "\n",
    "Try to make an extension of the model. "
   ]
  },
  {
   "cell_type": "markdown",
   "metadata": {},
   "source": [
    "# Conclusion"
   ]
  },
  {
   "cell_type": "markdown",
   "metadata": {},
   "source": [
    "Add concise conclusion. "
   ]
  }
 ],
 "metadata": {
  "kernelspec": {
   "display_name": "base",
   "language": "python",
   "name": "python3"
  },
  "language_info": {
   "codemirror_mode": {
    "name": "ipython",
    "version": 3
   },
   "file_extension": ".py",
   "mimetype": "text/x-python",
   "name": "python",
   "nbconvert_exporter": "python",
   "pygments_lexer": "ipython3",
   "version": "3.11.7"
  },
  "toc-autonumbering": true,
  "vscode": {
   "interpreter": {
    "hash": "47ef90cdf3004d3f859f1fb202523c65c07ba7c22eefd261b181f4744e2d0403"
   }
  }
 },
 "nbformat": 4,
 "nbformat_minor": 4
}
