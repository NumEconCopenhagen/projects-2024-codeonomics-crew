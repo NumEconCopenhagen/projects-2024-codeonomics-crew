{
 "cells": [
  {
   "cell_type": "markdown",
   "metadata": {},
   "source": [
    "# YOUR PROJECT TITLE"
   ]
  },
  {
   "cell_type": "markdown",
   "metadata": {},
   "source": [
    "Imports and set magics:"
   ]
  },
  {
   "cell_type": "code",
   "execution_count": 6,
   "metadata": {},
   "outputs": [
    {
     "name": "stdout",
     "output_type": "stream",
     "text": [
      "The autoreload extension is already loaded. To reload it, use:\n",
      "  %reload_ext autoreload\n"
     ]
    }
   ],
   "source": [
    "import numpy as np\n",
    "from scipy import optimize\n",
    "import sympy as sm\n",
    "\n",
    "# autoreload modules when code is run\n",
    "%load_ext autoreload\n",
    "%autoreload 2\n",
    "\n",
    "# local modules\n",
    "import modelproject"
   ]
  },
  {
   "cell_type": "markdown",
   "metadata": {},
   "source": [
    "# Introduction\n",
    "\n",
    "In this project we first start out by considering an extended Solow model with a fixed and depleating input.  \n",
    "An example of a fixed input could be land, while a depleating input could be oil or some other energy-form.\n",
    "\n",
    "Later we extend the model to include endogenous growth of capital in a learning-by-doing environment."
   ]
  },
  {
   "cell_type": "markdown",
   "metadata": {},
   "source": [
    "# The Solow Model with land."
   ]
  },
  {
   "cell_type": "markdown",
   "metadata": {},
   "source": [
    "We first consider the Solow model with land.  \n",
    "The model can be descripted by the following equations:\n",
    "\n",
    "$$Y_t=K_t^\\alpha  X^\\kappa (A_tL_t)^{1-\\alpha-\\kappa}$$\n",
    "$$K_{t+1}=s_YY_t+(1-\\delta)K_t$$\n",
    "$$L_{t+1}=(1+n)L_t$$\n",
    "$$A_{t+1}=(1+g)A_t$$\n",
    "\n",
    "Here the variables are:\n",
    "- $Y_t$: Production/Output\n",
    "- $K_t$: Capital\n",
    "- $X$: Land\n",
    "- $L_t$: Labor\n",
    "- $A_t$: Technology growth\n",
    "\n",
    "\n",
    "$s_Y$ is the savings rate of capital, while n and g are the growth of labor and technology respectively.  "
   ]
  },
  {
   "cell_type": "markdown",
   "metadata": {},
   "source": [
    "## Analytical solution"
   ]
  },
  {
   "cell_type": "markdown",
   "metadata": {},
   "source": [
    "We evalute the steady state based on the capital-output ration:\n",
    "$$z_t=\\frac{K_t}{Y_t}=\\frac{k_t}{y_t}$$\n",
    "We start from the next period and insert the prodution function:\n",
    "$$z_{t+1}=\\frac{K_{t+1}}{Y_{t+1}}=\\frac{K_{t+1}}{K_{t+1}^\\alpha X^\\kappa(A_{t+1}L_{t+1})^{1-\\alpha-\\kappa}}=\\frac{K_{t+1}^{1-\\alpha}}{X^\\kappa(A_{t+1}L_{t+1})^{1-\\alpha-\\kappa}}$$\n",
    "We insert the capital accumulation equation:\n",
    "$$z_{t+1}=\\frac{(s_YY_t+(1-\\delta)K_t)^{1-\\alpha}}{X^\\kappa(A_{t+1}L_{t+1})}=\\frac{(s+z_t(1-\\delta))^{1-\\alpha}}{X^\\kappa(A_{t+1}L_{t+1})^{1-\\alpha-\\kappa}}Y_t^{1-\\alpha}$$\n",
    "$$=\\frac{(s+z_t(1-\\delta))^{1-\\alpha}}{((1+g)(1+n))^{1-\\alpha-\\kappa}X^\\kappa(A_{t}L_{t})^{1-\\alpha-\\kappa}}Y_t^{1-\\alpha}$$\n",
    "Trick: We now multiply and divide by $K_t^\\alpha$\n",
    "$$=\\frac{(s+z_t(1-\\delta))^{1-\\alpha}}{((1+g)(1+n))^{1-\\alpha-\\kappa}X^\\kappa(A_{t}L_{t})^{1-\\alpha-\\kappa}}Y_t^{1-\\alpha}\\frac{K_t^\\alpha}{K_t^\\alpha}$$\n",
    "$$=\\frac{(s+z_t(1-\\delta))^{1-\\alpha}}{((1+g)(1+n))^{1-\\alpha-\\kappa}}\\frac{Y_t}{Y_t}z_t^\\alpha$$\n",
    "$$=\\frac{(s+z_t(1-\\delta))^{1-\\alpha}}{((1+g)(1+n))^{1-\\alpha-\\kappa}}z_t^\\alpha$$\n",
    "\n",
    "In steady state we have that $z_{t+1}=z_t=z$ and we can thus use sympy to solve for z"
   ]
  },
  {
   "cell_type": "code",
   "execution_count": 79,
   "metadata": {},
   "outputs": [
    {
     "data": {
      "text/latex": [
       "$\\displaystyle \\frac{s}{\\delta + \\left(g n + g + n + 1\\right)^{\\frac{\\alpha + \\kappa - 1}{\\alpha - 1}} - 1}$"
      ],
      "text/plain": [
       "s/(delta + (g*n + g + n + 1)**((alpha + kappa - 1)/(alpha - 1)) - 1)"
      ]
     },
     "execution_count": 79,
     "metadata": {},
     "output_type": "execute_result"
    }
   ],
   "source": [
    "# Define symbols\n",
    "z = sm.symbols('z')\n",
    "s = sm.symbols('s')\n",
    "delta = sm.symbols('delta')\n",
    "alpha = sm.symbols('alpha')\n",
    "kappa = sm.symbols('kappa')\n",
    "g = sm.symbols('g')\n",
    "n = sm.symbols('n')\n",
    "\n",
    "# Define equation\n",
    "transition_equation1 = sm.Eq(z, (s+z*(1-delta))**(1-alpha)/((1+g)*(1+n))**(1-alpha-kappa)*z**alpha)\n",
    "transition_equation1\n",
    "\n",
    "# For some reason sympy has trouble solving this equation, we thus help it along slightly:\n",
    "transition_equation2 = sm.Eq(z, (s+z*(1-delta))/((1+g)*(1+n))**((1-alpha-kappa)/(1-alpha)))\n",
    "transition_equation2\n",
    "\n",
    "# Solve for z\n",
    "z_sol = sm.solve(transition_equation2, z)\n",
    "z_sol[0]"
   ]
  },
  {
   "cell_type": "markdown",
   "metadata": {},
   "source": [
    "## Numerical solution"
   ]
  },
  {
   "cell_type": "markdown",
   "metadata": {},
   "source": [
    "You can always solve a model numerically. \n",
    "\n",
    "Define first the set of parameters you need. \n",
    "\n",
    "Then choose one of the optimization algorithms that we have gone through in the lectures based on what you think is most fitting for your model.\n",
    "\n",
    "Are there any problems with convergence? Does the model converge for all starting values? Make a lot of testing to figure these things out. "
   ]
  },
  {
   "cell_type": "markdown",
   "metadata": {},
   "source": [
    "# The Solow model with land and oil"
   ]
  },
  {
   "cell_type": "markdown",
   "metadata": {},
   "source": [
    "## Analytical solution\n",
    "\n",
    "We now extend the model to also include oil, which is a depleating input factor.  "
   ]
  },
  {
   "cell_type": "markdown",
   "metadata": {},
   "source": [
    "# Further analysis"
   ]
  },
  {
   "cell_type": "markdown",
   "metadata": {},
   "source": [
    "Make detailed vizualizations of how your model changes with parameter values. \n",
    "\n",
    "Try to make an extension of the model. "
   ]
  },
  {
   "cell_type": "markdown",
   "metadata": {},
   "source": [
    "# Conclusion"
   ]
  },
  {
   "cell_type": "markdown",
   "metadata": {},
   "source": [
    "Add concise conclusion. "
   ]
  }
 ],
 "metadata": {
  "kernelspec": {
   "display_name": "base",
   "language": "python",
   "name": "python3"
  },
  "language_info": {
   "codemirror_mode": {
    "name": "ipython",
    "version": 3
   },
   "file_extension": ".py",
   "mimetype": "text/x-python",
   "name": "python",
   "nbconvert_exporter": "python",
   "pygments_lexer": "ipython3",
   "version": "3.11.5"
  },
  "toc-autonumbering": true,
  "vscode": {
   "interpreter": {
    "hash": "47ef90cdf3004d3f859f1fb202523c65c07ba7c22eefd261b181f4744e2d0403"
   }
  }
 },
 "nbformat": 4,
 "nbformat_minor": 4
}
